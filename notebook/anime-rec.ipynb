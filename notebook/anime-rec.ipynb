{
 "cells": [
  {
   "cell_type": "code",
   "execution_count": 1,
   "id": "04e4e3f9",
   "metadata": {},
   "outputs": [
    {
     "name": "stderr",
     "output_type": "stream",
     "text": [
      "c:\\Udemy\\MLOps Course\\Hybrid Anime Recommender\\venv\\Lib\\site-packages\\google\\protobuf\\runtime_version.py:98: UserWarning: Protobuf gencode version 5.28.3 is exactly one major version older than the runtime version 6.31.1 at tensorflow/core/framework/attr_value.proto. Please update the gencode to avoid compatibility violations in the next runtime release.\n",
      "  warnings.warn(\n",
      "c:\\Udemy\\MLOps Course\\Hybrid Anime Recommender\\venv\\Lib\\site-packages\\google\\protobuf\\runtime_version.py:98: UserWarning: Protobuf gencode version 5.28.3 is exactly one major version older than the runtime version 6.31.1 at tensorflow/core/framework/tensor.proto. Please update the gencode to avoid compatibility violations in the next runtime release.\n",
      "  warnings.warn(\n",
      "c:\\Udemy\\MLOps Course\\Hybrid Anime Recommender\\venv\\Lib\\site-packages\\google\\protobuf\\runtime_version.py:98: UserWarning: Protobuf gencode version 5.28.3 is exactly one major version older than the runtime version 6.31.1 at tensorflow/core/framework/resource_handle.proto. Please update the gencode to avoid compatibility violations in the next runtime release.\n",
      "  warnings.warn(\n",
      "c:\\Udemy\\MLOps Course\\Hybrid Anime Recommender\\venv\\Lib\\site-packages\\google\\protobuf\\runtime_version.py:98: UserWarning: Protobuf gencode version 5.28.3 is exactly one major version older than the runtime version 6.31.1 at tensorflow/core/framework/tensor_shape.proto. Please update the gencode to avoid compatibility violations in the next runtime release.\n",
      "  warnings.warn(\n",
      "c:\\Udemy\\MLOps Course\\Hybrid Anime Recommender\\venv\\Lib\\site-packages\\google\\protobuf\\runtime_version.py:98: UserWarning: Protobuf gencode version 5.28.3 is exactly one major version older than the runtime version 6.31.1 at tensorflow/core/framework/types.proto. Please update the gencode to avoid compatibility violations in the next runtime release.\n",
      "  warnings.warn(\n",
      "c:\\Udemy\\MLOps Course\\Hybrid Anime Recommender\\venv\\Lib\\site-packages\\google\\protobuf\\runtime_version.py:98: UserWarning: Protobuf gencode version 5.28.3 is exactly one major version older than the runtime version 6.31.1 at tensorflow/core/framework/full_type.proto. Please update the gencode to avoid compatibility violations in the next runtime release.\n",
      "  warnings.warn(\n",
      "c:\\Udemy\\MLOps Course\\Hybrid Anime Recommender\\venv\\Lib\\site-packages\\google\\protobuf\\runtime_version.py:98: UserWarning: Protobuf gencode version 5.28.3 is exactly one major version older than the runtime version 6.31.1 at tensorflow/core/framework/function.proto. Please update the gencode to avoid compatibility violations in the next runtime release.\n",
      "  warnings.warn(\n",
      "c:\\Udemy\\MLOps Course\\Hybrid Anime Recommender\\venv\\Lib\\site-packages\\google\\protobuf\\runtime_version.py:98: UserWarning: Protobuf gencode version 5.28.3 is exactly one major version older than the runtime version 6.31.1 at tensorflow/core/framework/node_def.proto. Please update the gencode to avoid compatibility violations in the next runtime release.\n",
      "  warnings.warn(\n",
      "c:\\Udemy\\MLOps Course\\Hybrid Anime Recommender\\venv\\Lib\\site-packages\\google\\protobuf\\runtime_version.py:98: UserWarning: Protobuf gencode version 5.28.3 is exactly one major version older than the runtime version 6.31.1 at tensorflow/core/framework/op_def.proto. Please update the gencode to avoid compatibility violations in the next runtime release.\n",
      "  warnings.warn(\n",
      "c:\\Udemy\\MLOps Course\\Hybrid Anime Recommender\\venv\\Lib\\site-packages\\google\\protobuf\\runtime_version.py:98: UserWarning: Protobuf gencode version 5.28.3 is exactly one major version older than the runtime version 6.31.1 at tensorflow/core/framework/graph.proto. Please update the gencode to avoid compatibility violations in the next runtime release.\n",
      "  warnings.warn(\n",
      "c:\\Udemy\\MLOps Course\\Hybrid Anime Recommender\\venv\\Lib\\site-packages\\google\\protobuf\\runtime_version.py:98: UserWarning: Protobuf gencode version 5.28.3 is exactly one major version older than the runtime version 6.31.1 at tensorflow/core/framework/graph_debug_info.proto. Please update the gencode to avoid compatibility violations in the next runtime release.\n",
      "  warnings.warn(\n",
      "c:\\Udemy\\MLOps Course\\Hybrid Anime Recommender\\venv\\Lib\\site-packages\\google\\protobuf\\runtime_version.py:98: UserWarning: Protobuf gencode version 5.28.3 is exactly one major version older than the runtime version 6.31.1 at tensorflow/core/framework/versions.proto. Please update the gencode to avoid compatibility violations in the next runtime release.\n",
      "  warnings.warn(\n",
      "c:\\Udemy\\MLOps Course\\Hybrid Anime Recommender\\venv\\Lib\\site-packages\\google\\protobuf\\runtime_version.py:98: UserWarning: Protobuf gencode version 5.28.3 is exactly one major version older than the runtime version 6.31.1 at tensorflow/core/protobuf/config.proto. Please update the gencode to avoid compatibility violations in the next runtime release.\n",
      "  warnings.warn(\n",
      "c:\\Udemy\\MLOps Course\\Hybrid Anime Recommender\\venv\\Lib\\site-packages\\google\\protobuf\\runtime_version.py:98: UserWarning: Protobuf gencode version 5.28.3 is exactly one major version older than the runtime version 6.31.1 at xla/tsl/protobuf/coordination_config.proto. Please update the gencode to avoid compatibility violations in the next runtime release.\n",
      "  warnings.warn(\n",
      "c:\\Udemy\\MLOps Course\\Hybrid Anime Recommender\\venv\\Lib\\site-packages\\google\\protobuf\\runtime_version.py:98: UserWarning: Protobuf gencode version 5.28.3 is exactly one major version older than the runtime version 6.31.1 at tensorflow/core/framework/cost_graph.proto. Please update the gencode to avoid compatibility violations in the next runtime release.\n",
      "  warnings.warn(\n",
      "c:\\Udemy\\MLOps Course\\Hybrid Anime Recommender\\venv\\Lib\\site-packages\\google\\protobuf\\runtime_version.py:98: UserWarning: Protobuf gencode version 5.28.3 is exactly one major version older than the runtime version 6.31.1 at tensorflow/core/framework/step_stats.proto. Please update the gencode to avoid compatibility violations in the next runtime release.\n",
      "  warnings.warn(\n",
      "c:\\Udemy\\MLOps Course\\Hybrid Anime Recommender\\venv\\Lib\\site-packages\\google\\protobuf\\runtime_version.py:98: UserWarning: Protobuf gencode version 5.28.3 is exactly one major version older than the runtime version 6.31.1 at tensorflow/core/framework/allocation_description.proto. Please update the gencode to avoid compatibility violations in the next runtime release.\n",
      "  warnings.warn(\n",
      "c:\\Udemy\\MLOps Course\\Hybrid Anime Recommender\\venv\\Lib\\site-packages\\google\\protobuf\\runtime_version.py:98: UserWarning: Protobuf gencode version 5.28.3 is exactly one major version older than the runtime version 6.31.1 at tensorflow/core/framework/tensor_description.proto. Please update the gencode to avoid compatibility violations in the next runtime release.\n",
      "  warnings.warn(\n",
      "c:\\Udemy\\MLOps Course\\Hybrid Anime Recommender\\venv\\Lib\\site-packages\\google\\protobuf\\runtime_version.py:98: UserWarning: Protobuf gencode version 5.28.3 is exactly one major version older than the runtime version 6.31.1 at tensorflow/core/protobuf/cluster.proto. Please update the gencode to avoid compatibility violations in the next runtime release.\n",
      "  warnings.warn(\n",
      "c:\\Udemy\\MLOps Course\\Hybrid Anime Recommender\\venv\\Lib\\site-packages\\google\\protobuf\\runtime_version.py:98: UserWarning: Protobuf gencode version 5.28.3 is exactly one major version older than the runtime version 6.31.1 at tensorflow/core/protobuf/debug.proto. Please update the gencode to avoid compatibility violations in the next runtime release.\n",
      "  warnings.warn(\n"
     ]
    }
   ],
   "source": [
    "import pandas as pd\n",
    "import numpy as np\n",
    "import matplotlib.pyplot as plt\n",
    "\n",
    "import tensorflow as tf\n",
    "from tensorflow.keras import layers\n",
    "from tensorflow.keras.models import Model\n",
    "from tensorflow.keras.optimizers import Adam\n",
    "from tensorflow.keras.layers import Activation, BatchNormalization, Input, Embedding, Dot, Dense, Flatten\n",
    "from tensorflow.keras.callbacks import ModelCheckpoint, LearningRateScheduler, TensorBoard, EarlyStopping\n",
    "\n",
    "from wordcloud import WordCloud\n",
    "%matplotlib inline"
   ]
  },
  {
   "cell_type": "markdown",
   "id": "970a4b11",
   "metadata": {},
   "source": [
    "# Reading Animelist.csv"
   ]
  },
  {
   "cell_type": "code",
   "execution_count": 2,
   "id": "7fc6d926",
   "metadata": {},
   "outputs": [],
   "source": [
    "import os"
   ]
  },
  {
   "cell_type": "code",
   "execution_count": 3,
   "id": "af7426fd",
   "metadata": {},
   "outputs": [],
   "source": [
    "INPUT_DIR = os.path.join(\"..\", \"artifacts\", \"raw\")"
   ]
  },
  {
   "cell_type": "code",
   "execution_count": 4,
   "id": "cb586454",
   "metadata": {},
   "outputs": [],
   "source": [
    "rating_df = pd.read_csv(INPUT_DIR+\"/animelist.csv\", low_memory=True, usecols = [\"user_id\", \"anime_id\", \"rating\"])"
   ]
  },
  {
   "cell_type": "code",
   "execution_count": 5,
   "id": "d8afd06d",
   "metadata": {},
   "outputs": [
    {
     "data": {
      "text/html": [
       "<div>\n",
       "<style scoped>\n",
       "    .dataframe tbody tr th:only-of-type {\n",
       "        vertical-align: middle;\n",
       "    }\n",
       "\n",
       "    .dataframe tbody tr th {\n",
       "        vertical-align: top;\n",
       "    }\n",
       "\n",
       "    .dataframe thead th {\n",
       "        text-align: right;\n",
       "    }\n",
       "</style>\n",
       "<table border=\"1\" class=\"dataframe\">\n",
       "  <thead>\n",
       "    <tr style=\"text-align: right;\">\n",
       "      <th></th>\n",
       "      <th>user_id</th>\n",
       "      <th>anime_id</th>\n",
       "      <th>rating</th>\n",
       "    </tr>\n",
       "  </thead>\n",
       "  <tbody>\n",
       "    <tr>\n",
       "      <th>0</th>\n",
       "      <td>0</td>\n",
       "      <td>67</td>\n",
       "      <td>9</td>\n",
       "    </tr>\n",
       "    <tr>\n",
       "      <th>1</th>\n",
       "      <td>0</td>\n",
       "      <td>6702</td>\n",
       "      <td>7</td>\n",
       "    </tr>\n",
       "    <tr>\n",
       "      <th>2</th>\n",
       "      <td>0</td>\n",
       "      <td>242</td>\n",
       "      <td>10</td>\n",
       "    </tr>\n",
       "    <tr>\n",
       "      <th>3</th>\n",
       "      <td>0</td>\n",
       "      <td>4898</td>\n",
       "      <td>0</td>\n",
       "    </tr>\n",
       "    <tr>\n",
       "      <th>4</th>\n",
       "      <td>0</td>\n",
       "      <td>21</td>\n",
       "      <td>10</td>\n",
       "    </tr>\n",
       "  </tbody>\n",
       "</table>\n",
       "</div>"
      ],
      "text/plain": [
       "   user_id  anime_id  rating\n",
       "0        0        67       9\n",
       "1        0      6702       7\n",
       "2        0       242      10\n",
       "3        0      4898       0\n",
       "4        0        21      10"
      ]
     },
     "execution_count": 5,
     "metadata": {},
     "output_type": "execute_result"
    }
   ],
   "source": [
    "rating_df.head()"
   ]
  },
  {
   "cell_type": "code",
   "execution_count": 6,
   "id": "fbdcef6f",
   "metadata": {},
   "outputs": [
    {
     "data": {
      "text/plain": [
       "5000000"
      ]
     },
     "execution_count": 6,
     "metadata": {},
     "output_type": "execute_result"
    }
   ],
   "source": [
    "len(rating_df)"
   ]
  },
  {
   "cell_type": "markdown",
   "id": "c5760eba",
   "metadata": {},
   "source": [
    "# Data Processing"
   ]
  },
  {
   "cell_type": "code",
   "execution_count": 7,
   "id": "fa90bc88",
   "metadata": {},
   "outputs": [],
   "source": [
    "n_ratings = rating_df[\"user_id\"].value_counts()\n",
    "rating_df = rating_df[rating_df[\"user_id\"].isin(n_ratings[n_ratings >= 400].index)].copy()"
   ]
  },
  {
   "cell_type": "code",
   "execution_count": 8,
   "id": "b5a88372",
   "metadata": {},
   "outputs": [
    {
     "data": {
      "text/plain": [
       "3246641"
      ]
     },
     "execution_count": 8,
     "metadata": {},
     "output_type": "execute_result"
    }
   ],
   "source": [
    "len(rating_df)"
   ]
  },
  {
   "cell_type": "code",
   "execution_count": 9,
   "id": "ac43fc70",
   "metadata": {},
   "outputs": [],
   "source": [
    "min_rating = min(rating_df[\"rating\"])"
   ]
  },
  {
   "cell_type": "code",
   "execution_count": 10,
   "id": "5f89a9d2",
   "metadata": {},
   "outputs": [],
   "source": [
    "max_rating = max(rating_df[\"rating\"])"
   ]
  },
  {
   "cell_type": "code",
   "execution_count": 11,
   "id": "df8c67f6",
   "metadata": {},
   "outputs": [],
   "source": [
    "avg_rating = np.mean(rating_df[\"rating\"])"
   ]
  },
  {
   "cell_type": "code",
   "execution_count": 12,
   "id": "9d690159",
   "metadata": {},
   "outputs": [
    {
     "data": {
      "text/plain": [
       "0"
      ]
     },
     "execution_count": 12,
     "metadata": {},
     "output_type": "execute_result"
    }
   ],
   "source": [
    "min_rating"
   ]
  },
  {
   "cell_type": "code",
   "execution_count": 13,
   "id": "1d6140c7",
   "metadata": {},
   "outputs": [
    {
     "data": {
      "text/plain": [
       "10"
      ]
     },
     "execution_count": 13,
     "metadata": {},
     "output_type": "execute_result"
    }
   ],
   "source": [
    "max_rating"
   ]
  },
  {
   "cell_type": "code",
   "execution_count": 14,
   "id": "b4f0f7c2",
   "metadata": {},
   "outputs": [
    {
     "data": {
      "text/plain": [
       "np.float64(4.122732695114736)"
      ]
     },
     "execution_count": 14,
     "metadata": {},
     "output_type": "execute_result"
    }
   ],
   "source": [
    "avg_rating"
   ]
  },
  {
   "cell_type": "code",
   "execution_count": 15,
   "id": "c90a832e",
   "metadata": {},
   "outputs": [],
   "source": [
    "rating_df[\"rating\"] = rating_df[\"rating\"].apply(lambda x: (x-min_rating)/(max_rating-min_rating)).values.astype(np.float64)"
   ]
  },
  {
   "cell_type": "code",
   "execution_count": 16,
   "id": "607d8fe8",
   "metadata": {},
   "outputs": [
    {
     "data": {
      "text/plain": [
       "np.int64(0)"
      ]
     },
     "execution_count": 16,
     "metadata": {},
     "output_type": "execute_result"
    }
   ],
   "source": [
    "rating_df.duplicated().sum()"
   ]
  },
  {
   "cell_type": "code",
   "execution_count": 17,
   "id": "d6488d52",
   "metadata": {},
   "outputs": [
    {
     "data": {
      "text/plain": [
       "user_id     0\n",
       "anime_id    0\n",
       "rating      0\n",
       "dtype: int64"
      ]
     },
     "execution_count": 17,
     "metadata": {},
     "output_type": "execute_result"
    }
   ],
   "source": [
    "rating_df.isnull().sum()"
   ]
  },
  {
   "cell_type": "code",
   "execution_count": 18,
   "id": "75567bd0",
   "metadata": {},
   "outputs": [],
   "source": [
    "user_ids = rating_df[\"user_id\"].unique().tolist()\n",
    "user2user_encoded = {x: i for i, x in enumerate(user_ids)}\n",
    "user2user_decoded = {i: x for i, x in enumerate(user_ids)}\n",
    "rating_df[\"user\"] = rating_df[\"user_id\"].map(user2user_encoded)"
   ]
  },
  {
   "cell_type": "markdown",
   "id": "f9725f18",
   "metadata": {},
   "source": [
    "#### 4052: 996    ->      encoded\n",
    "#### 996: 4052    ->      decoded"
   ]
  },
  {
   "cell_type": "code",
   "execution_count": 19,
   "id": "bf3d21c2",
   "metadata": {},
   "outputs": [
    {
     "data": {
      "text/html": [
       "<div>\n",
       "<style scoped>\n",
       "    .dataframe tbody tr th:only-of-type {\n",
       "        vertical-align: middle;\n",
       "    }\n",
       "\n",
       "    .dataframe tbody tr th {\n",
       "        vertical-align: top;\n",
       "    }\n",
       "\n",
       "    .dataframe thead th {\n",
       "        text-align: right;\n",
       "    }\n",
       "</style>\n",
       "<table border=\"1\" class=\"dataframe\">\n",
       "  <thead>\n",
       "    <tr style=\"text-align: right;\">\n",
       "      <th></th>\n",
       "      <th>user_id</th>\n",
       "      <th>anime_id</th>\n",
       "      <th>rating</th>\n",
       "      <th>user</th>\n",
       "    </tr>\n",
       "  </thead>\n",
       "  <tbody>\n",
       "    <tr>\n",
       "      <th>213</th>\n",
       "      <td>2</td>\n",
       "      <td>24833</td>\n",
       "      <td>0.0</td>\n",
       "      <td>0</td>\n",
       "    </tr>\n",
       "    <tr>\n",
       "      <th>214</th>\n",
       "      <td>2</td>\n",
       "      <td>235</td>\n",
       "      <td>1.0</td>\n",
       "      <td>0</td>\n",
       "    </tr>\n",
       "    <tr>\n",
       "      <th>215</th>\n",
       "      <td>2</td>\n",
       "      <td>36721</td>\n",
       "      <td>0.0</td>\n",
       "      <td>0</td>\n",
       "    </tr>\n",
       "    <tr>\n",
       "      <th>216</th>\n",
       "      <td>2</td>\n",
       "      <td>40956</td>\n",
       "      <td>0.0</td>\n",
       "      <td>0</td>\n",
       "    </tr>\n",
       "    <tr>\n",
       "      <th>217</th>\n",
       "      <td>2</td>\n",
       "      <td>31933</td>\n",
       "      <td>0.0</td>\n",
       "      <td>0</td>\n",
       "    </tr>\n",
       "  </tbody>\n",
       "</table>\n",
       "</div>"
      ],
      "text/plain": [
       "     user_id  anime_id  rating  user\n",
       "213        2     24833     0.0     0\n",
       "214        2       235     1.0     0\n",
       "215        2     36721     0.0     0\n",
       "216        2     40956     0.0     0\n",
       "217        2     31933     0.0     0"
      ]
     },
     "execution_count": 19,
     "metadata": {},
     "output_type": "execute_result"
    }
   ],
   "source": [
    "rating_df.head()"
   ]
  },
  {
   "cell_type": "code",
   "execution_count": 20,
   "id": "406b5766",
   "metadata": {},
   "outputs": [],
   "source": [
    "n_user = len(user2user_encoded)"
   ]
  },
  {
   "cell_type": "code",
   "execution_count": 21,
   "id": "7f5d3a4f",
   "metadata": {},
   "outputs": [
    {
     "data": {
      "text/plain": [
       "4203"
      ]
     },
     "execution_count": 21,
     "metadata": {},
     "output_type": "execute_result"
    }
   ],
   "source": [
    "n_user"
   ]
  },
  {
   "cell_type": "code",
   "execution_count": 22,
   "id": "f34154bd",
   "metadata": {},
   "outputs": [],
   "source": [
    "anime_ids = rating_df[\"anime_id\"].unique().tolist()\n",
    "anime2anime_encoded = {x: i for i, x in enumerate(anime_ids)}\n",
    "anime2anime_decoded = {i: x for i, x in enumerate(anime_ids)}\n",
    "rating_df[\"anime\"] = rating_df[\"anime_id\"].map(anime2anime_encoded)"
   ]
  },
  {
   "cell_type": "code",
   "execution_count": 23,
   "id": "291d9a10",
   "metadata": {},
   "outputs": [
    {
     "data": {
      "text/html": [
       "<div>\n",
       "<style scoped>\n",
       "    .dataframe tbody tr th:only-of-type {\n",
       "        vertical-align: middle;\n",
       "    }\n",
       "\n",
       "    .dataframe tbody tr th {\n",
       "        vertical-align: top;\n",
       "    }\n",
       "\n",
       "    .dataframe thead th {\n",
       "        text-align: right;\n",
       "    }\n",
       "</style>\n",
       "<table border=\"1\" class=\"dataframe\">\n",
       "  <thead>\n",
       "    <tr style=\"text-align: right;\">\n",
       "      <th></th>\n",
       "      <th>user_id</th>\n",
       "      <th>anime_id</th>\n",
       "      <th>rating</th>\n",
       "      <th>user</th>\n",
       "      <th>anime</th>\n",
       "    </tr>\n",
       "  </thead>\n",
       "  <tbody>\n",
       "    <tr>\n",
       "      <th>213</th>\n",
       "      <td>2</td>\n",
       "      <td>24833</td>\n",
       "      <td>0.0</td>\n",
       "      <td>0</td>\n",
       "      <td>0</td>\n",
       "    </tr>\n",
       "    <tr>\n",
       "      <th>214</th>\n",
       "      <td>2</td>\n",
       "      <td>235</td>\n",
       "      <td>1.0</td>\n",
       "      <td>0</td>\n",
       "      <td>1</td>\n",
       "    </tr>\n",
       "    <tr>\n",
       "      <th>215</th>\n",
       "      <td>2</td>\n",
       "      <td>36721</td>\n",
       "      <td>0.0</td>\n",
       "      <td>0</td>\n",
       "      <td>2</td>\n",
       "    </tr>\n",
       "    <tr>\n",
       "      <th>216</th>\n",
       "      <td>2</td>\n",
       "      <td>40956</td>\n",
       "      <td>0.0</td>\n",
       "      <td>0</td>\n",
       "      <td>3</td>\n",
       "    </tr>\n",
       "    <tr>\n",
       "      <th>217</th>\n",
       "      <td>2</td>\n",
       "      <td>31933</td>\n",
       "      <td>0.0</td>\n",
       "      <td>0</td>\n",
       "      <td>4</td>\n",
       "    </tr>\n",
       "  </tbody>\n",
       "</table>\n",
       "</div>"
      ],
      "text/plain": [
       "     user_id  anime_id  rating  user  anime\n",
       "213        2     24833     0.0     0      0\n",
       "214        2       235     1.0     0      1\n",
       "215        2     36721     0.0     0      2\n",
       "216        2     40956     0.0     0      3\n",
       "217        2     31933     0.0     0      4"
      ]
     },
     "execution_count": 23,
     "metadata": {},
     "output_type": "execute_result"
    }
   ],
   "source": [
    "rating_df.head()"
   ]
  },
  {
   "cell_type": "code",
   "execution_count": 24,
   "id": "0a67404f",
   "metadata": {},
   "outputs": [
    {
     "data": {
      "text/plain": [
       "17149"
      ]
     },
     "execution_count": 24,
     "metadata": {},
     "output_type": "execute_result"
    }
   ],
   "source": [
    "n_anime = len(anime2anime_encoded)\n",
    "n_anime"
   ]
  },
  {
   "cell_type": "code",
   "execution_count": 25,
   "id": "3599e31a",
   "metadata": {},
   "outputs": [],
   "source": [
    "rating_df = rating_df.sample(frac=1, random_state=43).reset_index(drop=True)"
   ]
  },
  {
   "cell_type": "code",
   "execution_count": 26,
   "id": "776caa8f",
   "metadata": {},
   "outputs": [
    {
     "data": {
      "text/html": [
       "<div>\n",
       "<style scoped>\n",
       "    .dataframe tbody tr th:only-of-type {\n",
       "        vertical-align: middle;\n",
       "    }\n",
       "\n",
       "    .dataframe tbody tr th {\n",
       "        vertical-align: top;\n",
       "    }\n",
       "\n",
       "    .dataframe thead th {\n",
       "        text-align: right;\n",
       "    }\n",
       "</style>\n",
       "<table border=\"1\" class=\"dataframe\">\n",
       "  <thead>\n",
       "    <tr style=\"text-align: right;\">\n",
       "      <th></th>\n",
       "      <th>user_id</th>\n",
       "      <th>anime_id</th>\n",
       "      <th>rating</th>\n",
       "      <th>user</th>\n",
       "      <th>anime</th>\n",
       "    </tr>\n",
       "  </thead>\n",
       "  <tbody>\n",
       "    <tr>\n",
       "      <th>0</th>\n",
       "      <td>457</td>\n",
       "      <td>18153</td>\n",
       "      <td>0.9</td>\n",
       "      <td>120</td>\n",
       "      <td>1377</td>\n",
       "    </tr>\n",
       "    <tr>\n",
       "      <th>1</th>\n",
       "      <td>4903</td>\n",
       "      <td>20507</td>\n",
       "      <td>0.7</td>\n",
       "      <td>1195</td>\n",
       "      <td>1216</td>\n",
       "    </tr>\n",
       "    <tr>\n",
       "      <th>2</th>\n",
       "      <td>6313</td>\n",
       "      <td>23325</td>\n",
       "      <td>0.0</td>\n",
       "      <td>1591</td>\n",
       "      <td>1239</td>\n",
       "    </tr>\n",
       "    <tr>\n",
       "      <th>3</th>\n",
       "      <td>15851</td>\n",
       "      <td>37491</td>\n",
       "      <td>0.0</td>\n",
       "      <td>4024</td>\n",
       "      <td>1813</td>\n",
       "    </tr>\n",
       "    <tr>\n",
       "      <th>4</th>\n",
       "      <td>1596</td>\n",
       "      <td>29803</td>\n",
       "      <td>0.9</td>\n",
       "      <td>415</td>\n",
       "      <td>353</td>\n",
       "    </tr>\n",
       "  </tbody>\n",
       "</table>\n",
       "</div>"
      ],
      "text/plain": [
       "   user_id  anime_id  rating  user  anime\n",
       "0      457     18153     0.9   120   1377\n",
       "1     4903     20507     0.7  1195   1216\n",
       "2     6313     23325     0.0  1591   1239\n",
       "3    15851     37491     0.0  4024   1813\n",
       "4     1596     29803     0.9   415    353"
      ]
     },
     "execution_count": 26,
     "metadata": {},
     "output_type": "execute_result"
    }
   ],
   "source": [
    "rating_df.head()"
   ]
  },
  {
   "cell_type": "code",
   "execution_count": null,
   "id": "7dc0e0b3",
   "metadata": {},
   "outputs": [],
   "source": [
    "X = rating_df[[\"user\", \"anime\"]].values\n",
    "y = rating_df[\"rating\"]"
   ]
  },
  {
   "cell_type": "code",
   "execution_count": 28,
   "id": "9a9ac380",
   "metadata": {},
   "outputs": [],
   "source": [
    "test_size = 1000\n",
    "train_indices = rating_df.shape[0] - test_size"
   ]
  },
  {
   "cell_type": "code",
   "execution_count": 29,
   "id": "c91ced95",
   "metadata": {},
   "outputs": [
    {
     "data": {
      "text/plain": [
       "3246641"
      ]
     },
     "execution_count": 29,
     "metadata": {},
     "output_type": "execute_result"
    }
   ],
   "source": [
    "rating_df.shape[0]"
   ]
  },
  {
   "cell_type": "code",
   "execution_count": 30,
   "id": "557086a6",
   "metadata": {},
   "outputs": [],
   "source": [
    "X_train, X_test, y_train, y_test = (\n",
    "    X[: train_indices],\n",
    "    X[train_indices :],\n",
    "    y[: train_indices],\n",
    "    y[train_indices :],\n",
    ")"
   ]
  },
  {
   "cell_type": "code",
   "execution_count": 31,
   "id": "7bbba116",
   "metadata": {},
   "outputs": [
    {
     "data": {
      "text/plain": [
       "3245641"
      ]
     },
     "execution_count": 31,
     "metadata": {},
     "output_type": "execute_result"
    }
   ],
   "source": [
    "len(X_train)"
   ]
  },
  {
   "cell_type": "code",
   "execution_count": 32,
   "id": "5157b448",
   "metadata": {},
   "outputs": [
    {
     "data": {
      "text/plain": [
       "1000"
      ]
     },
     "execution_count": 32,
     "metadata": {},
     "output_type": "execute_result"
    }
   ],
   "source": [
    "len(X_test)"
   ]
  },
  {
   "cell_type": "code",
   "execution_count": 33,
   "id": "00121ebb",
   "metadata": {},
   "outputs": [],
   "source": [
    "X_train_array = [X_train[: , 0], X_train[: , 1]]\n",
    "X_test_array = [X_test[: , 0], X_test[: , 1]]"
   ]
  },
  {
   "cell_type": "markdown",
   "id": "2749f538",
   "metadata": {},
   "source": [
    "# Model Architechture"
   ]
  },
  {
   "cell_type": "code",
   "execution_count": 34,
   "id": "0b9af210",
   "metadata": {},
   "outputs": [],
   "source": [
    "def RecommenderNet():\n",
    "    embedding_size = 128\n",
    "\n",
    "    user = Input(name=\"user\", shape=[1])\n",
    "    anime = Input(name=\"anime\", shape=[1])\n",
    "\n",
    "    user_embedding = Embedding(name=\"user_embedding\", input_dim=n_user, output_dim=embedding_size)(user)\n",
    "    anime_embedding = Embedding(name=\"anime_embedding\", input_dim=n_anime, output_dim=embedding_size)(anime)\n",
    "\n",
    "    x = Dot(name=\"dot_product\", normalize=True, axes=2)([user_embedding, anime_embedding])\n",
    "\n",
    "    x = Flatten()(x)\n",
    "\n",
    "    x = Dense(1, kernel_initializer='he_normal')(x)\n",
    "    x = BatchNormalization()(x)\n",
    "    x = Activation(\"sigmoid\")(x)\n",
    "\n",
    "    model = Model(inputs=[user, anime], outputs=x)\n",
    "    model.compile(loss=\"binary_crossentropy\", metrics=[\"mae\", \"mse\"], optimizer=\"Adam\")\n",
    "    return model"
   ]
  },
  {
   "cell_type": "code",
   "execution_count": 35,
   "id": "60af7bfe",
   "metadata": {},
   "outputs": [],
   "source": [
    "model = RecommenderNet()"
   ]
  },
  {
   "cell_type": "code",
   "execution_count": 36,
   "id": "114be7cf",
   "metadata": {},
   "outputs": [
    {
     "data": {
      "text/html": [
       "<pre style=\"white-space:pre;overflow-x:auto;line-height:normal;font-family:Menlo,'DejaVu Sans Mono',consolas,'Courier New',monospace\"><span style=\"font-weight: bold\">Model: \"functional\"</span>\n",
       "</pre>\n"
      ],
      "text/plain": [
       "\u001b[1mModel: \"functional\"\u001b[0m\n"
      ]
     },
     "metadata": {},
     "output_type": "display_data"
    },
    {
     "data": {
      "text/html": [
       "<pre style=\"white-space:pre;overflow-x:auto;line-height:normal;font-family:Menlo,'DejaVu Sans Mono',consolas,'Courier New',monospace\">┏━━━━━━━━━━━━━━━━━━━━━┳━━━━━━━━━━━━━━━━━━━┳━━━━━━━━━━━━┳━━━━━━━━━━━━━━━━━━━┓\n",
       "┃<span style=\"font-weight: bold\"> Layer (type)        </span>┃<span style=\"font-weight: bold\"> Output Shape      </span>┃<span style=\"font-weight: bold\">    Param # </span>┃<span style=\"font-weight: bold\"> Connected to      </span>┃\n",
       "┡━━━━━━━━━━━━━━━━━━━━━╇━━━━━━━━━━━━━━━━━━━╇━━━━━━━━━━━━╇━━━━━━━━━━━━━━━━━━━┩\n",
       "│ user (<span style=\"color: #0087ff; text-decoration-color: #0087ff\">InputLayer</span>)   │ (<span style=\"color: #00d7ff; text-decoration-color: #00d7ff\">None</span>, <span style=\"color: #00af00; text-decoration-color: #00af00\">1</span>)         │          <span style=\"color: #00af00; text-decoration-color: #00af00\">0</span> │ -                 │\n",
       "├─────────────────────┼───────────────────┼────────────┼───────────────────┤\n",
       "│ anime (<span style=\"color: #0087ff; text-decoration-color: #0087ff\">InputLayer</span>)  │ (<span style=\"color: #00d7ff; text-decoration-color: #00d7ff\">None</span>, <span style=\"color: #00af00; text-decoration-color: #00af00\">1</span>)         │          <span style=\"color: #00af00; text-decoration-color: #00af00\">0</span> │ -                 │\n",
       "├─────────────────────┼───────────────────┼────────────┼───────────────────┤\n",
       "│ user_embedding      │ (<span style=\"color: #00d7ff; text-decoration-color: #00d7ff\">None</span>, <span style=\"color: #00af00; text-decoration-color: #00af00\">1</span>, <span style=\"color: #00af00; text-decoration-color: #00af00\">128</span>)    │    <span style=\"color: #00af00; text-decoration-color: #00af00\">537,984</span> │ user[<span style=\"color: #00af00; text-decoration-color: #00af00\">0</span>][<span style=\"color: #00af00; text-decoration-color: #00af00\">0</span>]        │\n",
       "│ (<span style=\"color: #0087ff; text-decoration-color: #0087ff\">Embedding</span>)         │                   │            │                   │\n",
       "├─────────────────────┼───────────────────┼────────────┼───────────────────┤\n",
       "│ anime_embedding     │ (<span style=\"color: #00d7ff; text-decoration-color: #00d7ff\">None</span>, <span style=\"color: #00af00; text-decoration-color: #00af00\">1</span>, <span style=\"color: #00af00; text-decoration-color: #00af00\">128</span>)    │  <span style=\"color: #00af00; text-decoration-color: #00af00\">2,195,072</span> │ anime[<span style=\"color: #00af00; text-decoration-color: #00af00\">0</span>][<span style=\"color: #00af00; text-decoration-color: #00af00\">0</span>]       │\n",
       "│ (<span style=\"color: #0087ff; text-decoration-color: #0087ff\">Embedding</span>)         │                   │            │                   │\n",
       "├─────────────────────┼───────────────────┼────────────┼───────────────────┤\n",
       "│ dot_product (<span style=\"color: #0087ff; text-decoration-color: #0087ff\">Dot</span>)   │ (<span style=\"color: #00d7ff; text-decoration-color: #00d7ff\">None</span>, <span style=\"color: #00af00; text-decoration-color: #00af00\">1</span>, <span style=\"color: #00af00; text-decoration-color: #00af00\">1</span>)      │          <span style=\"color: #00af00; text-decoration-color: #00af00\">0</span> │ user_embedding[<span style=\"color: #00af00; text-decoration-color: #00af00\">0</span>… │\n",
       "│                     │                   │            │ anime_embedding[<span style=\"color: #00af00; text-decoration-color: #00af00\">…</span> │\n",
       "├─────────────────────┼───────────────────┼────────────┼───────────────────┤\n",
       "│ flatten (<span style=\"color: #0087ff; text-decoration-color: #0087ff\">Flatten</span>)   │ (<span style=\"color: #00d7ff; text-decoration-color: #00d7ff\">None</span>, <span style=\"color: #00af00; text-decoration-color: #00af00\">1</span>)         │          <span style=\"color: #00af00; text-decoration-color: #00af00\">0</span> │ dot_product[<span style=\"color: #00af00; text-decoration-color: #00af00\">0</span>][<span style=\"color: #00af00; text-decoration-color: #00af00\">0</span>] │\n",
       "├─────────────────────┼───────────────────┼────────────┼───────────────────┤\n",
       "│ dense (<span style=\"color: #0087ff; text-decoration-color: #0087ff\">Dense</span>)       │ (<span style=\"color: #00d7ff; text-decoration-color: #00d7ff\">None</span>, <span style=\"color: #00af00; text-decoration-color: #00af00\">1</span>)         │          <span style=\"color: #00af00; text-decoration-color: #00af00\">2</span> │ flatten[<span style=\"color: #00af00; text-decoration-color: #00af00\">0</span>][<span style=\"color: #00af00; text-decoration-color: #00af00\">0</span>]     │\n",
       "├─────────────────────┼───────────────────┼────────────┼───────────────────┤\n",
       "│ batch_normalization │ (<span style=\"color: #00d7ff; text-decoration-color: #00d7ff\">None</span>, <span style=\"color: #00af00; text-decoration-color: #00af00\">1</span>)         │          <span style=\"color: #00af00; text-decoration-color: #00af00\">4</span> │ dense[<span style=\"color: #00af00; text-decoration-color: #00af00\">0</span>][<span style=\"color: #00af00; text-decoration-color: #00af00\">0</span>]       │\n",
       "│ (<span style=\"color: #0087ff; text-decoration-color: #0087ff\">BatchNormalizatio…</span> │                   │            │                   │\n",
       "├─────────────────────┼───────────────────┼────────────┼───────────────────┤\n",
       "│ activation          │ (<span style=\"color: #00d7ff; text-decoration-color: #00d7ff\">None</span>, <span style=\"color: #00af00; text-decoration-color: #00af00\">1</span>)         │          <span style=\"color: #00af00; text-decoration-color: #00af00\">0</span> │ batch_normalizat… │\n",
       "│ (<span style=\"color: #0087ff; text-decoration-color: #0087ff\">Activation</span>)        │                   │            │                   │\n",
       "└─────────────────────┴───────────────────┴────────────┴───────────────────┘\n",
       "</pre>\n"
      ],
      "text/plain": [
       "┏━━━━━━━━━━━━━━━━━━━━━┳━━━━━━━━━━━━━━━━━━━┳━━━━━━━━━━━━┳━━━━━━━━━━━━━━━━━━━┓\n",
       "┃\u001b[1m \u001b[0m\u001b[1mLayer (type)       \u001b[0m\u001b[1m \u001b[0m┃\u001b[1m \u001b[0m\u001b[1mOutput Shape     \u001b[0m\u001b[1m \u001b[0m┃\u001b[1m \u001b[0m\u001b[1m   Param #\u001b[0m\u001b[1m \u001b[0m┃\u001b[1m \u001b[0m\u001b[1mConnected to     \u001b[0m\u001b[1m \u001b[0m┃\n",
       "┡━━━━━━━━━━━━━━━━━━━━━╇━━━━━━━━━━━━━━━━━━━╇━━━━━━━━━━━━╇━━━━━━━━━━━━━━━━━━━┩\n",
       "│ user (\u001b[38;5;33mInputLayer\u001b[0m)   │ (\u001b[38;5;45mNone\u001b[0m, \u001b[38;5;34m1\u001b[0m)         │          \u001b[38;5;34m0\u001b[0m │ -                 │\n",
       "├─────────────────────┼───────────────────┼────────────┼───────────────────┤\n",
       "│ anime (\u001b[38;5;33mInputLayer\u001b[0m)  │ (\u001b[38;5;45mNone\u001b[0m, \u001b[38;5;34m1\u001b[0m)         │          \u001b[38;5;34m0\u001b[0m │ -                 │\n",
       "├─────────────────────┼───────────────────┼────────────┼───────────────────┤\n",
       "│ user_embedding      │ (\u001b[38;5;45mNone\u001b[0m, \u001b[38;5;34m1\u001b[0m, \u001b[38;5;34m128\u001b[0m)    │    \u001b[38;5;34m537,984\u001b[0m │ user[\u001b[38;5;34m0\u001b[0m][\u001b[38;5;34m0\u001b[0m]        │\n",
       "│ (\u001b[38;5;33mEmbedding\u001b[0m)         │                   │            │                   │\n",
       "├─────────────────────┼───────────────────┼────────────┼───────────────────┤\n",
       "│ anime_embedding     │ (\u001b[38;5;45mNone\u001b[0m, \u001b[38;5;34m1\u001b[0m, \u001b[38;5;34m128\u001b[0m)    │  \u001b[38;5;34m2,195,072\u001b[0m │ anime[\u001b[38;5;34m0\u001b[0m][\u001b[38;5;34m0\u001b[0m]       │\n",
       "│ (\u001b[38;5;33mEmbedding\u001b[0m)         │                   │            │                   │\n",
       "├─────────────────────┼───────────────────┼────────────┼───────────────────┤\n",
       "│ dot_product (\u001b[38;5;33mDot\u001b[0m)   │ (\u001b[38;5;45mNone\u001b[0m, \u001b[38;5;34m1\u001b[0m, \u001b[38;5;34m1\u001b[0m)      │          \u001b[38;5;34m0\u001b[0m │ user_embedding[\u001b[38;5;34m0\u001b[0m… │\n",
       "│                     │                   │            │ anime_embedding[\u001b[38;5;34m…\u001b[0m │\n",
       "├─────────────────────┼───────────────────┼────────────┼───────────────────┤\n",
       "│ flatten (\u001b[38;5;33mFlatten\u001b[0m)   │ (\u001b[38;5;45mNone\u001b[0m, \u001b[38;5;34m1\u001b[0m)         │          \u001b[38;5;34m0\u001b[0m │ dot_product[\u001b[38;5;34m0\u001b[0m][\u001b[38;5;34m0\u001b[0m] │\n",
       "├─────────────────────┼───────────────────┼────────────┼───────────────────┤\n",
       "│ dense (\u001b[38;5;33mDense\u001b[0m)       │ (\u001b[38;5;45mNone\u001b[0m, \u001b[38;5;34m1\u001b[0m)         │          \u001b[38;5;34m2\u001b[0m │ flatten[\u001b[38;5;34m0\u001b[0m][\u001b[38;5;34m0\u001b[0m]     │\n",
       "├─────────────────────┼───────────────────┼────────────┼───────────────────┤\n",
       "│ batch_normalization │ (\u001b[38;5;45mNone\u001b[0m, \u001b[38;5;34m1\u001b[0m)         │          \u001b[38;5;34m4\u001b[0m │ dense[\u001b[38;5;34m0\u001b[0m][\u001b[38;5;34m0\u001b[0m]       │\n",
       "│ (\u001b[38;5;33mBatchNormalizatio…\u001b[0m │                   │            │                   │\n",
       "├─────────────────────┼───────────────────┼────────────┼───────────────────┤\n",
       "│ activation          │ (\u001b[38;5;45mNone\u001b[0m, \u001b[38;5;34m1\u001b[0m)         │          \u001b[38;5;34m0\u001b[0m │ batch_normalizat… │\n",
       "│ (\u001b[38;5;33mActivation\u001b[0m)        │                   │            │                   │\n",
       "└─────────────────────┴───────────────────┴────────────┴───────────────────┘\n"
      ]
     },
     "metadata": {},
     "output_type": "display_data"
    },
    {
     "data": {
      "text/html": [
       "<pre style=\"white-space:pre;overflow-x:auto;line-height:normal;font-family:Menlo,'DejaVu Sans Mono',consolas,'Courier New',monospace\"><span style=\"font-weight: bold\"> Total params: </span><span style=\"color: #00af00; text-decoration-color: #00af00\">2,733,062</span> (10.43 MB)\n",
       "</pre>\n"
      ],
      "text/plain": [
       "\u001b[1m Total params: \u001b[0m\u001b[38;5;34m2,733,062\u001b[0m (10.43 MB)\n"
      ]
     },
     "metadata": {},
     "output_type": "display_data"
    },
    {
     "data": {
      "text/html": [
       "<pre style=\"white-space:pre;overflow-x:auto;line-height:normal;font-family:Menlo,'DejaVu Sans Mono',consolas,'Courier New',monospace\"><span style=\"font-weight: bold\"> Trainable params: </span><span style=\"color: #00af00; text-decoration-color: #00af00\">2,733,060</span> (10.43 MB)\n",
       "</pre>\n"
      ],
      "text/plain": [
       "\u001b[1m Trainable params: \u001b[0m\u001b[38;5;34m2,733,060\u001b[0m (10.43 MB)\n"
      ]
     },
     "metadata": {},
     "output_type": "display_data"
    },
    {
     "data": {
      "text/html": [
       "<pre style=\"white-space:pre;overflow-x:auto;line-height:normal;font-family:Menlo,'DejaVu Sans Mono',consolas,'Courier New',monospace\"><span style=\"font-weight: bold\"> Non-trainable params: </span><span style=\"color: #00af00; text-decoration-color: #00af00\">2</span> (8.00 B)\n",
       "</pre>\n"
      ],
      "text/plain": [
       "\u001b[1m Non-trainable params: \u001b[0m\u001b[38;5;34m2\u001b[0m (8.00 B)\n"
      ]
     },
     "metadata": {},
     "output_type": "display_data"
    }
   ],
   "source": [
    "model.summary()"
   ]
  },
  {
   "cell_type": "code",
   "execution_count": 37,
   "id": "fe00dcbd",
   "metadata": {},
   "outputs": [],
   "source": [
    "# Learning Rate -> lr\n",
    "\n",
    "start_lr = 0.00001\n",
    "min_lr = 0.00001\n",
    "max_lr = 0.00005\n",
    "batch_size = 10000\n",
    "\n",
    "ramup_epochs = 5\n",
    "sustain_epochs = 0\n",
    "exp_decay = 0.8\n",
    "\n",
    "def lrfn(epoch):\n",
    "    if epoch < ramup_epochs:\n",
    "        return (max_lr - start_lr)/ramup_epochs*epoch + start_lr\n",
    "    elif epoch < ramup_epochs + sustain_epochs:\n",
    "        return max_lr\n",
    "    else:\n",
    "        return (max_lr - min_lr) * exp_decay ** (epoch-ramup_epochs-sustain_epochs)+min_lr"
   ]
  },
  {
   "cell_type": "code",
   "execution_count": 38,
   "id": "d0f207bb",
   "metadata": {},
   "outputs": [],
   "source": [
    "lr_callback = LearningRateScheduler(lambda epoch:lrfn(epoch), verbose=0)\n",
    "checkpoint_filepath = './weights.weights.h5'\n",
    "\n",
    "model_checkpoint = ModelCheckpoint(filepath=checkpoint_filepath, save_weights_only=True, monitor=\"val_loss\", mode=\"min\", save_best_only=True)\n",
    "\n",
    "early_stopping = EarlyStopping(patience=3, monitor=\"val_loss\", mode=\"min\", restore_best_weights=True)"
   ]
  },
  {
   "cell_type": "code",
   "execution_count": 39,
   "id": "3818ed0a",
   "metadata": {},
   "outputs": [],
   "source": [
    "my_callbacks = [model_checkpoint, lr_callback, early_stopping]"
   ]
  },
  {
   "cell_type": "code",
   "execution_count": 40,
   "id": "743260d0",
   "metadata": {},
   "outputs": [
    {
     "name": "stdout",
     "output_type": "stream",
     "text": [
      "Epoch 1/20\n",
      "\u001b[1m325/325\u001b[0m \u001b[32m━━━━━━━━━━━━━━━━━━━━\u001b[0m\u001b[37m\u001b[0m \u001b[1m10s\u001b[0m 27ms/step - loss: 0.7648 - mae: 0.3757 - mse: 0.1855 - val_loss: 0.6958 - val_mae: 0.3608 - val_mse: 0.1570 - learning_rate: 1.0000e-05\n",
      "Epoch 2/20\n",
      "\u001b[1m325/325\u001b[0m \u001b[32m━━━━━━━━━━━━━━━━━━━━\u001b[0m\u001b[37m\u001b[0m \u001b[1m9s\u001b[0m 28ms/step - loss: 0.7615 - mae: 0.3745 - mse: 0.1841 - val_loss: 0.7313 - val_mae: 0.3665 - val_mse: 0.1722 - learning_rate: 1.8000e-05\n",
      "Epoch 3/20\n",
      "\u001b[1m325/325\u001b[0m \u001b[32m━━━━━━━━━━━━━━━━━━━━\u001b[0m\u001b[37m\u001b[0m \u001b[1m11s\u001b[0m 34ms/step - loss: 0.7561 - mae: 0.3725 - mse: 0.1819 - val_loss: 0.7496 - val_mae: 0.3696 - val_mse: 0.1788 - learning_rate: 2.6000e-05\n",
      "Epoch 4/20\n",
      "\u001b[1m325/325\u001b[0m \u001b[32m━━━━━━━━━━━━━━━━━━━━\u001b[0m\u001b[37m\u001b[0m \u001b[1m9s\u001b[0m 26ms/step - loss: 0.7485 - mae: 0.3697 - mse: 0.1787 - val_loss: 0.7480 - val_mae: 0.3691 - val_mse: 0.1781 - learning_rate: 3.4000e-05\n"
     ]
    }
   ],
   "source": [
    "history = model.fit(\n",
    "    x = X_train_array,\n",
    "    y = y_train,\n",
    "    batch_size = batch_size,\n",
    "    epochs = 20,\n",
    "    verbose = 1,\n",
    "    validation_data = (X_test_array, y_test),\n",
    "    callbacks = my_callbacks,\n",
    ")"
   ]
  },
  {
   "cell_type": "code",
   "execution_count": 41,
   "id": "8dd2d227",
   "metadata": {},
   "outputs": [
    {
     "data": {
      "image/png": "[encoded data removed]",
      "text/plain": [
       "<Figure size 800x1200 with 3 Axes>"
      ]
     },
     "metadata": {},
     "output_type": "display_data"
    }
   ],
   "source": [
    "metrics = [\"loss\", \"mae\", \"mse\"]\n",
    "\n",
    "fig, axes = plt.subplots(len(metrics), 1, figsize=(8, len(metrics) * 4))\n",
    "\n",
    "for i, metric in enumerate(metrics):\n",
    "    ax = axes[i]\n",
    "    ax.plot(history.history[metric][0:2], marker=\"o\", label = f\"train {metric}\")\n",
    "    ax.plot(history.history[f\"val_{metric}\"][0:2], marker=\"o\", label = f\"test {metric}\")\n",
    "    ax.set_title(f\"Model {metric.capitalize()}\")\n",
    "    ax.set_ylabel(metric.capitalize())\n",
    "    ax.set_xlabel(\"Epoch\")\n",
    "    ax.legend(loc=\"upper left\")\n",
    "    ax.grid(True)\n",
    "\n",
    "plt.tight_layout()\n",
    "plt.show()"
   ]
  },
  {
   "cell_type": "code",
   "execution_count": 42,
   "id": "27f67b7c",
   "metadata": {},
   "outputs": [],
   "source": [
    "def extract_weights(name, model):\n",
    "    weight_layer = model.get_layer(name)\n",
    "    weights = weight_layer.get_weights()[0]\n",
    "    weights = weights/np.linalg.norm(weights,axis=1).reshape((-1,1))\n",
    "    return weights"
   ]
  },
  {
   "cell_type": "code",
   "execution_count": 43,
   "id": "8a30fc28",
   "metadata": {},
   "outputs": [],
   "source": [
    "anime_weights = extract_weights(\"anime_embedding\", model)"
   ]
  },
  {
   "cell_type": "code",
   "execution_count": 44,
   "id": "a6641920",
   "metadata": {},
   "outputs": [],
   "source": [
    "user_weights = extract_weights(\"user_embedding\", model)"
   ]
  },
  {
   "cell_type": "markdown",
   "id": "313ddc20",
   "metadata": {},
   "source": [
    "#### Reading Anime.csv"
   ]
  },
  {
   "cell_type": "code",
   "execution_count": 45,
   "id": "6debb600",
   "metadata": {},
   "outputs": [
    {
     "data": {
      "text/html": [
       "<div>\n",
       "<style scoped>\n",
       "    .dataframe tbody tr th:only-of-type {\n",
       "        vertical-align: middle;\n",
       "    }\n",
       "\n",
       "    .dataframe tbody tr th {\n",
       "        vertical-align: top;\n",
       "    }\n",
       "\n",
       "    .dataframe thead th {\n",
       "        text-align: right;\n",
       "    }\n",
       "</style>\n",
       "<table border=\"1\" class=\"dataframe\">\n",
       "  <thead>\n",
       "    <tr style=\"text-align: right;\">\n",
       "      <th></th>\n",
       "      <th>MAL_ID</th>\n",
       "      <th>Name</th>\n",
       "      <th>Score</th>\n",
       "      <th>Genres</th>\n",
       "      <th>English name</th>\n",
       "      <th>Japanese name</th>\n",
       "      <th>Type</th>\n",
       "      <th>Episodes</th>\n",
       "      <th>Aired</th>\n",
       "      <th>Premiered</th>\n",
       "      <th>...</th>\n",
       "      <th>Score-10</th>\n",
       "      <th>Score-9</th>\n",
       "      <th>Score-8</th>\n",
       "      <th>Score-7</th>\n",
       "      <th>Score-6</th>\n",
       "      <th>Score-5</th>\n",
       "      <th>Score-4</th>\n",
       "      <th>Score-3</th>\n",
       "      <th>Score-2</th>\n",
       "      <th>Score-1</th>\n",
       "    </tr>\n",
       "  </thead>\n",
       "  <tbody>\n",
       "    <tr>\n",
       "      <th>0</th>\n",
       "      <td>1</td>\n",
       "      <td>Cowboy Bebop</td>\n",
       "      <td>8.78</td>\n",
       "      <td>Action, Adventure, Comedy, Drama, Sci-Fi, Space</td>\n",
       "      <td>Cowboy Bebop</td>\n",
       "      <td>カウボーイビバップ</td>\n",
       "      <td>TV</td>\n",
       "      <td>26</td>\n",
       "      <td>Apr 3, 1998 to Apr 24, 1999</td>\n",
       "      <td>Spring 1998</td>\n",
       "      <td>...</td>\n",
       "      <td>229170.0</td>\n",
       "      <td>182126.0</td>\n",
       "      <td>131625.0</td>\n",
       "      <td>62330.0</td>\n",
       "      <td>20688.0</td>\n",
       "      <td>8904.0</td>\n",
       "      <td>3184.0</td>\n",
       "      <td>1357.0</td>\n",
       "      <td>741.0</td>\n",
       "      <td>1580.0</td>\n",
       "    </tr>\n",
       "    <tr>\n",
       "      <th>1</th>\n",
       "      <td>5</td>\n",
       "      <td>Cowboy Bebop: Tengoku no Tobira</td>\n",
       "      <td>8.39</td>\n",
       "      <td>Action, Drama, Mystery, Sci-Fi, Space</td>\n",
       "      <td>Cowboy Bebop:The Movie</td>\n",
       "      <td>カウボーイビバップ 天国の扉</td>\n",
       "      <td>Movie</td>\n",
       "      <td>1</td>\n",
       "      <td>Sep 1, 2001</td>\n",
       "      <td>Unknown</td>\n",
       "      <td>...</td>\n",
       "      <td>30043.0</td>\n",
       "      <td>49201.0</td>\n",
       "      <td>49505.0</td>\n",
       "      <td>22632.0</td>\n",
       "      <td>5805.0</td>\n",
       "      <td>1877.0</td>\n",
       "      <td>577.0</td>\n",
       "      <td>221.0</td>\n",
       "      <td>109.0</td>\n",
       "      <td>379.0</td>\n",
       "    </tr>\n",
       "  </tbody>\n",
       "</table>\n",
       "<p>2 rows × 35 columns</p>\n",
       "</div>"
      ],
      "text/plain": [
       "   MAL_ID                             Name Score  \\\n",
       "0       1                     Cowboy Bebop  8.78   \n",
       "1       5  Cowboy Bebop: Tengoku no Tobira  8.39   \n",
       "\n",
       "                                            Genres            English name  \\\n",
       "0  Action, Adventure, Comedy, Drama, Sci-Fi, Space            Cowboy Bebop   \n",
       "1            Action, Drama, Mystery, Sci-Fi, Space  Cowboy Bebop:The Movie   \n",
       "\n",
       "    Japanese name   Type Episodes                        Aired    Premiered  \\\n",
       "0       カウボーイビバップ     TV       26  Apr 3, 1998 to Apr 24, 1999  Spring 1998   \n",
       "1  カウボーイビバップ 天国の扉  Movie        1                  Sep 1, 2001      Unknown   \n",
       "\n",
       "   ...  Score-10   Score-9   Score-8  Score-7  Score-6 Score-5 Score-4  \\\n",
       "0  ...  229170.0  182126.0  131625.0  62330.0  20688.0  8904.0  3184.0   \n",
       "1  ...   30043.0   49201.0   49505.0  22632.0   5805.0  1877.0   577.0   \n",
       "\n",
       "   Score-3  Score-2  Score-1  \n",
       "0   1357.0    741.0   1580.0  \n",
       "1    221.0    109.0    379.0  \n",
       "\n",
       "[2 rows x 35 columns]"
      ]
     },
     "execution_count": 45,
     "metadata": {},
     "output_type": "execute_result"
    }
   ],
   "source": [
    "df= pd.read_csv(INPUT_DIR+\"/anime.csv\", low_memory=True)\n",
    "df.head(2)"
   ]
  },
  {
   "cell_type": "code",
   "execution_count": 46,
   "id": "d102ab61",
   "metadata": {},
   "outputs": [],
   "source": [
    "df = df.replace(\"Unknown\",np.nan)"
   ]
  },
  {
   "cell_type": "code",
   "execution_count": 47,
   "id": "2099d1db",
   "metadata": {},
   "outputs": [],
   "source": [
    "def get_anime_name(anime_id):\n",
    "    try:\n",
    "        name = df[df.anime_id == anime_id].eng_version.values[0]\n",
    "        if name is np.nan:\n",
    "            name = df[df.anime_id == anime_id].Name.values[0]\n",
    "    except:\n",
    "        print(\"Error\")\n",
    "    return name"
   ]
  },
  {
   "cell_type": "code",
   "execution_count": 48,
   "id": "d87ebbf4",
   "metadata": {},
   "outputs": [],
   "source": [
    "df[\"anime_id\"] = df[\"MAL_ID\"]\n",
    "df[\"eng_version\"] = df[\"English name\"]\n",
    "df[\"eng_version\"] = df.anime_id.apply(lambda x: get_anime_name(x))"
   ]
  },
  {
   "cell_type": "code",
   "execution_count": 49,
   "id": "2ebe1788",
   "metadata": {},
   "outputs": [
    {
     "data": {
      "text/html": [
       "<div>\n",
       "<style scoped>\n",
       "    .dataframe tbody tr th:only-of-type {\n",
       "        vertical-align: middle;\n",
       "    }\n",
       "\n",
       "    .dataframe tbody tr th {\n",
       "        vertical-align: top;\n",
       "    }\n",
       "\n",
       "    .dataframe thead th {\n",
       "        text-align: right;\n",
       "    }\n",
       "</style>\n",
       "<table border=\"1\" class=\"dataframe\">\n",
       "  <thead>\n",
       "    <tr style=\"text-align: right;\">\n",
       "      <th></th>\n",
       "      <th>MAL_ID</th>\n",
       "      <th>Name</th>\n",
       "      <th>Score</th>\n",
       "      <th>Genres</th>\n",
       "      <th>English name</th>\n",
       "      <th>Japanese name</th>\n",
       "      <th>Type</th>\n",
       "      <th>Episodes</th>\n",
       "      <th>Aired</th>\n",
       "      <th>Premiered</th>\n",
       "      <th>...</th>\n",
       "      <th>Score-8</th>\n",
       "      <th>Score-7</th>\n",
       "      <th>Score-6</th>\n",
       "      <th>Score-5</th>\n",
       "      <th>Score-4</th>\n",
       "      <th>Score-3</th>\n",
       "      <th>Score-2</th>\n",
       "      <th>Score-1</th>\n",
       "      <th>anime_id</th>\n",
       "      <th>eng_version</th>\n",
       "    </tr>\n",
       "  </thead>\n",
       "  <tbody>\n",
       "    <tr>\n",
       "      <th>0</th>\n",
       "      <td>1</td>\n",
       "      <td>Cowboy Bebop</td>\n",
       "      <td>8.78</td>\n",
       "      <td>Action, Adventure, Comedy, Drama, Sci-Fi, Space</td>\n",
       "      <td>Cowboy Bebop</td>\n",
       "      <td>カウボーイビバップ</td>\n",
       "      <td>TV</td>\n",
       "      <td>26</td>\n",
       "      <td>Apr 3, 1998 to Apr 24, 1999</td>\n",
       "      <td>Spring 1998</td>\n",
       "      <td>...</td>\n",
       "      <td>131625.0</td>\n",
       "      <td>62330.0</td>\n",
       "      <td>20688.0</td>\n",
       "      <td>8904.0</td>\n",
       "      <td>3184.0</td>\n",
       "      <td>1357.0</td>\n",
       "      <td>741.0</td>\n",
       "      <td>1580.0</td>\n",
       "      <td>1</td>\n",
       "      <td>Cowboy Bebop</td>\n",
       "    </tr>\n",
       "    <tr>\n",
       "      <th>1</th>\n",
       "      <td>5</td>\n",
       "      <td>Cowboy Bebop: Tengoku no Tobira</td>\n",
       "      <td>8.39</td>\n",
       "      <td>Action, Drama, Mystery, Sci-Fi, Space</td>\n",
       "      <td>Cowboy Bebop:The Movie</td>\n",
       "      <td>カウボーイビバップ 天国の扉</td>\n",
       "      <td>Movie</td>\n",
       "      <td>1</td>\n",
       "      <td>Sep 1, 2001</td>\n",
       "      <td>NaN</td>\n",
       "      <td>...</td>\n",
       "      <td>49505.0</td>\n",
       "      <td>22632.0</td>\n",
       "      <td>5805.0</td>\n",
       "      <td>1877.0</td>\n",
       "      <td>577.0</td>\n",
       "      <td>221.0</td>\n",
       "      <td>109.0</td>\n",
       "      <td>379.0</td>\n",
       "      <td>5</td>\n",
       "      <td>Cowboy Bebop:The Movie</td>\n",
       "    </tr>\n",
       "  </tbody>\n",
       "</table>\n",
       "<p>2 rows × 37 columns</p>\n",
       "</div>"
      ],
      "text/plain": [
       "   MAL_ID                             Name Score  \\\n",
       "0       1                     Cowboy Bebop  8.78   \n",
       "1       5  Cowboy Bebop: Tengoku no Tobira  8.39   \n",
       "\n",
       "                                            Genres            English name  \\\n",
       "0  Action, Adventure, Comedy, Drama, Sci-Fi, Space            Cowboy Bebop   \n",
       "1            Action, Drama, Mystery, Sci-Fi, Space  Cowboy Bebop:The Movie   \n",
       "\n",
       "    Japanese name   Type Episodes                        Aired    Premiered  \\\n",
       "0       カウボーイビバップ     TV       26  Apr 3, 1998 to Apr 24, 1999  Spring 1998   \n",
       "1  カウボーイビバップ 天国の扉  Movie        1                  Sep 1, 2001          NaN   \n",
       "\n",
       "   ...   Score-8  Score-7  Score-6 Score-5 Score-4 Score-3 Score-2  Score-1  \\\n",
       "0  ...  131625.0  62330.0  20688.0  8904.0  3184.0  1357.0   741.0   1580.0   \n",
       "1  ...   49505.0  22632.0   5805.0  1877.0   577.0   221.0   109.0    379.0   \n",
       "\n",
       "   anime_id             eng_version  \n",
       "0         1            Cowboy Bebop  \n",
       "1         5  Cowboy Bebop:The Movie  \n",
       "\n",
       "[2 rows x 37 columns]"
      ]
     },
     "execution_count": 49,
     "metadata": {},
     "output_type": "execute_result"
    }
   ],
   "source": [
    "df.head(2)"
   ]
  },
  {
   "cell_type": "code",
   "execution_count": 50,
   "id": "042f76ab",
   "metadata": {},
   "outputs": [
    {
     "data": {
      "text/plain": [
       "'Beet the Vandel Buster'"
      ]
     },
     "execution_count": 50,
     "metadata": {},
     "output_type": "execute_result"
    }
   ],
   "source": [
    "get_anime_name(8)"
   ]
  },
  {
   "cell_type": "code",
   "execution_count": 51,
   "id": "6b993ee6",
   "metadata": {},
   "outputs": [],
   "source": [
    "df.sort_values(by=[\"Score\"],\n",
    "               inplace=True,\n",
    "               ascending=False,\n",
    "               kind=\"quicksort\",\n",
    "               na_position=\"last\"\n",
    "               )"
   ]
  },
  {
   "cell_type": "code",
   "execution_count": 52,
   "id": "928da900",
   "metadata": {},
   "outputs": [
    {
     "data": {
      "text/plain": [
       "Index(['MAL_ID', 'Name', 'Score', 'Genres', 'English name', 'Japanese name',\n",
       "       'Type', 'Episodes', 'Aired', 'Premiered', 'Producers', 'Licensors',\n",
       "       'Studios', 'Source', 'Duration', 'Rating', 'Ranked', 'Popularity',\n",
       "       'Members', 'Favorites', 'Watching', 'Completed', 'On-Hold', 'Dropped',\n",
       "       'Plan to Watch', 'Score-10', 'Score-9', 'Score-8', 'Score-7', 'Score-6',\n",
       "       'Score-5', 'Score-4', 'Score-3', 'Score-2', 'Score-1', 'anime_id',\n",
       "       'eng_version'],\n",
       "      dtype='object')"
      ]
     },
     "execution_count": 52,
     "metadata": {},
     "output_type": "execute_result"
    }
   ],
   "source": [
    "df.columns"
   ]
  },
  {
   "cell_type": "code",
   "execution_count": 53,
   "id": "41241dbf",
   "metadata": {},
   "outputs": [],
   "source": [
    "df = df[[\"anime_id\", \"eng_version\", \"Score\", \"Genres\", \"Episodes\", \"Type\", \"Premiered\", \"Members\"]]"
   ]
  },
  {
   "cell_type": "code",
   "execution_count": 54,
   "id": "196eb2a6",
   "metadata": {},
   "outputs": [
    {
     "data": {
      "text/html": [
       "<div>\n",
       "<style scoped>\n",
       "    .dataframe tbody tr th:only-of-type {\n",
       "        vertical-align: middle;\n",
       "    }\n",
       "\n",
       "    .dataframe tbody tr th {\n",
       "        vertical-align: top;\n",
       "    }\n",
       "\n",
       "    .dataframe thead th {\n",
       "        text-align: right;\n",
       "    }\n",
       "</style>\n",
       "<table border=\"1\" class=\"dataframe\">\n",
       "  <thead>\n",
       "    <tr style=\"text-align: right;\">\n",
       "      <th></th>\n",
       "      <th>anime_id</th>\n",
       "      <th>eng_version</th>\n",
       "      <th>Score</th>\n",
       "      <th>Genres</th>\n",
       "      <th>Episodes</th>\n",
       "      <th>Type</th>\n",
       "      <th>Premiered</th>\n",
       "      <th>Members</th>\n",
       "    </tr>\n",
       "  </thead>\n",
       "  <tbody>\n",
       "    <tr>\n",
       "      <th>3971</th>\n",
       "      <td>5114</td>\n",
       "      <td>Fullmetal Alchemist:Brotherhood</td>\n",
       "      <td>9.19</td>\n",
       "      <td>Action, Military, Adventure, Comedy, Drama, Ma...</td>\n",
       "      <td>64</td>\n",
       "      <td>TV</td>\n",
       "      <td>Spring 2009</td>\n",
       "      <td>2248456</td>\n",
       "    </tr>\n",
       "    <tr>\n",
       "      <th>15926</th>\n",
       "      <td>40028</td>\n",
       "      <td>Attack on Titan Final Season</td>\n",
       "      <td>9.17</td>\n",
       "      <td>Action, Military, Mystery, Super Power, Drama,...</td>\n",
       "      <td>16</td>\n",
       "      <td>TV</td>\n",
       "      <td>Winter 2021</td>\n",
       "      <td>733260</td>\n",
       "    </tr>\n",
       "    <tr>\n",
       "      <th>5683</th>\n",
       "      <td>9253</td>\n",
       "      <td>Steins;Gate</td>\n",
       "      <td>9.11</td>\n",
       "      <td>Thriller, Sci-Fi</td>\n",
       "      <td>24</td>\n",
       "      <td>TV</td>\n",
       "      <td>Spring 2011</td>\n",
       "      <td>1771162</td>\n",
       "    </tr>\n",
       "    <tr>\n",
       "      <th>14963</th>\n",
       "      <td>38524</td>\n",
       "      <td>Attack on Titan Season 3 Part 2</td>\n",
       "      <td>9.1</td>\n",
       "      <td>Action, Drama, Fantasy, Military, Mystery, Sho...</td>\n",
       "      <td>10</td>\n",
       "      <td>TV</td>\n",
       "      <td>Spring 2019</td>\n",
       "      <td>1073626</td>\n",
       "    </tr>\n",
       "    <tr>\n",
       "      <th>9913</th>\n",
       "      <td>28977</td>\n",
       "      <td>Gintama Season 4</td>\n",
       "      <td>9.1</td>\n",
       "      <td>Action, Comedy, Historical, Parody, Samurai, S...</td>\n",
       "      <td>51</td>\n",
       "      <td>TV</td>\n",
       "      <td>Spring 2015</td>\n",
       "      <td>404121</td>\n",
       "    </tr>\n",
       "  </tbody>\n",
       "</table>\n",
       "</div>"
      ],
      "text/plain": [
       "       anime_id                      eng_version Score  \\\n",
       "3971       5114  Fullmetal Alchemist:Brotherhood  9.19   \n",
       "15926     40028     Attack on Titan Final Season  9.17   \n",
       "5683       9253                      Steins;Gate  9.11   \n",
       "14963     38524  Attack on Titan Season 3 Part 2   9.1   \n",
       "9913      28977                 Gintama Season 4   9.1   \n",
       "\n",
       "                                                  Genres Episodes Type  \\\n",
       "3971   Action, Military, Adventure, Comedy, Drama, Ma...       64   TV   \n",
       "15926  Action, Military, Mystery, Super Power, Drama,...       16   TV   \n",
       "5683                                    Thriller, Sci-Fi       24   TV   \n",
       "14963  Action, Drama, Fantasy, Military, Mystery, Sho...       10   TV   \n",
       "9913   Action, Comedy, Historical, Parody, Samurai, S...       51   TV   \n",
       "\n",
       "         Premiered  Members  \n",
       "3971   Spring 2009  2248456  \n",
       "15926  Winter 2021   733260  \n",
       "5683   Spring 2011  1771162  \n",
       "14963  Spring 2019  1073626  \n",
       "9913   Spring 2015   404121  "
      ]
     },
     "execution_count": 54,
     "metadata": {},
     "output_type": "execute_result"
    }
   ],
   "source": [
    "df.head()"
   ]
  },
  {
   "cell_type": "code",
   "execution_count": 55,
   "id": "8ee0a969",
   "metadata": {},
   "outputs": [],
   "source": [
    "def get_anime_frame(anime,df):\n",
    "    if isinstance(anime, int):\n",
    "        return df[df.anime_id == anime]\n",
    "    if isinstance(anime, str):\n",
    "        return df[df.eng_version == anime]"
   ]
  },
  {
   "cell_type": "code",
   "execution_count": 56,
   "id": "cb15df76",
   "metadata": {},
   "outputs": [
    {
     "data": {
      "text/html": [
       "<div>\n",
       "<style scoped>\n",
       "    .dataframe tbody tr th:only-of-type {\n",
       "        vertical-align: middle;\n",
       "    }\n",
       "\n",
       "    .dataframe tbody tr th {\n",
       "        vertical-align: top;\n",
       "    }\n",
       "\n",
       "    .dataframe thead th {\n",
       "        text-align: right;\n",
       "    }\n",
       "</style>\n",
       "<table border=\"1\" class=\"dataframe\">\n",
       "  <thead>\n",
       "    <tr style=\"text-align: right;\">\n",
       "      <th></th>\n",
       "      <th>anime_id</th>\n",
       "      <th>eng_version</th>\n",
       "      <th>Score</th>\n",
       "      <th>Genres</th>\n",
       "      <th>Episodes</th>\n",
       "      <th>Type</th>\n",
       "      <th>Premiered</th>\n",
       "      <th>Members</th>\n",
       "    </tr>\n",
       "  </thead>\n",
       "  <tbody>\n",
       "    <tr>\n",
       "      <th>15926</th>\n",
       "      <td>40028</td>\n",
       "      <td>Attack on Titan Final Season</td>\n",
       "      <td>9.17</td>\n",
       "      <td>Action, Military, Mystery, Super Power, Drama,...</td>\n",
       "      <td>16</td>\n",
       "      <td>TV</td>\n",
       "      <td>Winter 2021</td>\n",
       "      <td>733260</td>\n",
       "    </tr>\n",
       "  </tbody>\n",
       "</table>\n",
       "</div>"
      ],
      "text/plain": [
       "       anime_id                   eng_version Score  \\\n",
       "15926     40028  Attack on Titan Final Season  9.17   \n",
       "\n",
       "                                                  Genres Episodes Type  \\\n",
       "15926  Action, Military, Mystery, Super Power, Drama,...       16   TV   \n",
       "\n",
       "         Premiered  Members  \n",
       "15926  Winter 2021   733260  "
      ]
     },
     "execution_count": 56,
     "metadata": {},
     "output_type": "execute_result"
    }
   ],
   "source": [
    "get_anime_frame(40028, df)"
   ]
  },
  {
   "cell_type": "code",
   "execution_count": 57,
   "id": "11be72d9",
   "metadata": {},
   "outputs": [
    {
     "data": {
      "text/html": [
       "<div>\n",
       "<style scoped>\n",
       "    .dataframe tbody tr th:only-of-type {\n",
       "        vertical-align: middle;\n",
       "    }\n",
       "\n",
       "    .dataframe tbody tr th {\n",
       "        vertical-align: top;\n",
       "    }\n",
       "\n",
       "    .dataframe thead th {\n",
       "        text-align: right;\n",
       "    }\n",
       "</style>\n",
       "<table border=\"1\" class=\"dataframe\">\n",
       "  <thead>\n",
       "    <tr style=\"text-align: right;\">\n",
       "      <th></th>\n",
       "      <th>anime_id</th>\n",
       "      <th>eng_version</th>\n",
       "      <th>Score</th>\n",
       "      <th>Genres</th>\n",
       "      <th>Episodes</th>\n",
       "      <th>Type</th>\n",
       "      <th>Premiered</th>\n",
       "      <th>Members</th>\n",
       "    </tr>\n",
       "  </thead>\n",
       "  <tbody>\n",
       "    <tr>\n",
       "      <th>1393</th>\n",
       "      <td>1535</td>\n",
       "      <td>Death Note</td>\n",
       "      <td>8.63</td>\n",
       "      <td>Mystery, Police, Psychological, Supernatural, ...</td>\n",
       "      <td>37</td>\n",
       "      <td>TV</td>\n",
       "      <td>Fall 2006</td>\n",
       "      <td>2589552</td>\n",
       "    </tr>\n",
       "  </tbody>\n",
       "</table>\n",
       "</div>"
      ],
      "text/plain": [
       "      anime_id eng_version Score  \\\n",
       "1393      1535  Death Note  8.63   \n",
       "\n",
       "                                                 Genres Episodes Type  \\\n",
       "1393  Mystery, Police, Psychological, Supernatural, ...       37   TV   \n",
       "\n",
       "      Premiered  Members  \n",
       "1393  Fall 2006  2589552  "
      ]
     },
     "execution_count": 57,
     "metadata": {},
     "output_type": "execute_result"
    }
   ],
   "source": [
    "get_anime_frame(\"Death Note\", df)"
   ]
  },
  {
   "cell_type": "markdown",
   "id": "d57f3c39",
   "metadata": {},
   "source": [
    "#### Anime_with_sypnopsis.csv"
   ]
  },
  {
   "cell_type": "code",
   "execution_count": 58,
   "id": "77da962d",
   "metadata": {},
   "outputs": [],
   "source": [
    "cols = [\"MAL_ID\",\"Name\", \"Genres\", \"sypnopsis\"]"
   ]
  },
  {
   "cell_type": "code",
   "execution_count": 59,
   "id": "644e20b9",
   "metadata": {},
   "outputs": [],
   "source": [
    "synopsis_df = pd.read_csv(INPUT_DIR+\"/anime_with_synopsis.csv\", usecols=cols)"
   ]
  },
  {
   "cell_type": "code",
   "execution_count": 60,
   "id": "758fb954",
   "metadata": {},
   "outputs": [
    {
     "data": {
      "text/html": [
       "<div>\n",
       "<style scoped>\n",
       "    .dataframe tbody tr th:only-of-type {\n",
       "        vertical-align: middle;\n",
       "    }\n",
       "\n",
       "    .dataframe tbody tr th {\n",
       "        vertical-align: top;\n",
       "    }\n",
       "\n",
       "    .dataframe thead th {\n",
       "        text-align: right;\n",
       "    }\n",
       "</style>\n",
       "<table border=\"1\" class=\"dataframe\">\n",
       "  <thead>\n",
       "    <tr style=\"text-align: right;\">\n",
       "      <th></th>\n",
       "      <th>MAL_ID</th>\n",
       "      <th>Name</th>\n",
       "      <th>Genres</th>\n",
       "      <th>sypnopsis</th>\n",
       "    </tr>\n",
       "  </thead>\n",
       "  <tbody>\n",
       "    <tr>\n",
       "      <th>0</th>\n",
       "      <td>1</td>\n",
       "      <td>Cowboy Bebop</td>\n",
       "      <td>Action, Adventure, Comedy, Drama, Sci-Fi, Space</td>\n",
       "      <td>In the year 2071, humanity has colonized sever...</td>\n",
       "    </tr>\n",
       "  </tbody>\n",
       "</table>\n",
       "</div>"
      ],
      "text/plain": [
       "   MAL_ID          Name                                           Genres  \\\n",
       "0       1  Cowboy Bebop  Action, Adventure, Comedy, Drama, Sci-Fi, Space   \n",
       "\n",
       "                                           sypnopsis  \n",
       "0  In the year 2071, humanity has colonized sever...  "
      ]
     },
     "execution_count": 60,
     "metadata": {},
     "output_type": "execute_result"
    }
   ],
   "source": [
    "synopsis_df.head(1)"
   ]
  },
  {
   "cell_type": "code",
   "execution_count": 61,
   "id": "471b7cf7",
   "metadata": {},
   "outputs": [],
   "source": [
    "def get_sypnopsis(anime, df):\n",
    "    if isinstance(anime,int):\n",
    "        return synopsis_df[synopsis_df.MAL_ID == anime].sypnopsis.values[0]\n",
    "    if isinstance(anime,str):\n",
    "        return synopsis_df[synopsis_df.Name == anime].sypnopsis.values[0]\n",
    "    "
   ]
  },
  {
   "cell_type": "code",
   "execution_count": 62,
   "id": "5e3e9d76",
   "metadata": {},
   "outputs": [
    {
     "data": {
      "text/plain": [
       "\"Gabi Braun and Falco Grice have been training their entire lives to inherit one of the seven titans under Marley's control and aid their nation in eradicating the Eldians on Paradis. However, just as all seems well for the two cadets, their peace is suddenly shaken by the arrival of Eren Yeager and the remaining members of the Survey Corps. Having finally reached the Yeager family basement and learned about the dark history surrounding the titans, the Survey Corps has at long last found the answer they so desperately fought to uncover. With the truth now in their hands, the group set out for the world beyond the walls. In Shingeki no Kyojin: The Final Season , two utterly different worlds collide as each party pursues its own agenda in the long-awaited conclusion to Paradis' fight for freedom.\""
      ]
     },
     "execution_count": 62,
     "metadata": {},
     "output_type": "execute_result"
    }
   ],
   "source": [
    "get_sypnopsis(40028, df)"
   ]
  },
  {
   "cell_type": "code",
   "execution_count": 63,
   "id": "213fee7b",
   "metadata": {},
   "outputs": [
    {
     "data": {
      "text/plain": [
       "\"shinigami, as a god of death, can kill any person—provided they see their victim's face and write their victim's name in a notebook called a Death Note. One day, Ryuk, bored by the shinigami lifestyle and interested in seeing how a human would use a Death Note, drops one into the human realm. High school student and prodigy Light Yagami stumbles upon the Death Note and—since he deplores the state of the world—tests the deadly notebook by writing a criminal's name in it. When the criminal dies immediately following his experiment with the Death Note, Light is greatly surprised and quickly recognizes how devastating the power that has fallen into his hands could be. With this divine capability, Light decides to extinguish all criminals in order to build a new world where crime does not exist and people worship him as a god. Police, however, quickly discover that a serial killer is targeting criminals and, consequently, try to apprehend the culprit. To do this, the Japanese investigators count on the assistance of the best detective in the world: a young and eccentric man known only by the name of L.\""
      ]
     },
     "execution_count": 63,
     "metadata": {},
     "output_type": "execute_result"
    }
   ],
   "source": [
    "get_sypnopsis(\"Death Note\", df)"
   ]
  },
  {
   "cell_type": "markdown",
   "id": "27464e85",
   "metadata": {},
   "source": [
    "# Content-Based Recommendation"
   ]
  },
  {
   "cell_type": "code",
   "execution_count": 64,
   "id": "636852b5",
   "metadata": {},
   "outputs": [],
   "source": [
    "pd.set_option(\"max_colwidth\", None)"
   ]
  },
  {
   "cell_type": "code",
   "execution_count": 65,
   "id": "3a228239",
   "metadata": {},
   "outputs": [
    {
     "data": {
      "text/html": [
       "<div>\n",
       "<style scoped>\n",
       "    .dataframe tbody tr th:only-of-type {\n",
       "        vertical-align: middle;\n",
       "    }\n",
       "\n",
       "    .dataframe tbody tr th {\n",
       "        vertical-align: top;\n",
       "    }\n",
       "\n",
       "    .dataframe thead th {\n",
       "        text-align: right;\n",
       "    }\n",
       "</style>\n",
       "<table border=\"1\" class=\"dataframe\">\n",
       "  <thead>\n",
       "    <tr style=\"text-align: right;\">\n",
       "      <th></th>\n",
       "      <th>anime_id</th>\n",
       "      <th>eng_version</th>\n",
       "      <th>Score</th>\n",
       "      <th>Genres</th>\n",
       "      <th>Episodes</th>\n",
       "      <th>Type</th>\n",
       "      <th>Premiered</th>\n",
       "      <th>Members</th>\n",
       "    </tr>\n",
       "  </thead>\n",
       "  <tbody>\n",
       "    <tr>\n",
       "      <th>3971</th>\n",
       "      <td>5114</td>\n",
       "      <td>Fullmetal Alchemist:Brotherhood</td>\n",
       "      <td>9.19</td>\n",
       "      <td>Action, Military, Adventure, Comedy, Drama, Magic, Fantasy, Shounen</td>\n",
       "      <td>64</td>\n",
       "      <td>TV</td>\n",
       "      <td>Spring 2009</td>\n",
       "      <td>2248456</td>\n",
       "    </tr>\n",
       "    <tr>\n",
       "      <th>15926</th>\n",
       "      <td>40028</td>\n",
       "      <td>Attack on Titan Final Season</td>\n",
       "      <td>9.17</td>\n",
       "      <td>Action, Military, Mystery, Super Power, Drama, Fantasy, Shounen</td>\n",
       "      <td>16</td>\n",
       "      <td>TV</td>\n",
       "      <td>Winter 2021</td>\n",
       "      <td>733260</td>\n",
       "    </tr>\n",
       "  </tbody>\n",
       "</table>\n",
       "</div>"
      ],
      "text/plain": [
       "       anime_id                      eng_version Score  \\\n",
       "3971       5114  Fullmetal Alchemist:Brotherhood  9.19   \n",
       "15926     40028     Attack on Titan Final Season  9.17   \n",
       "\n",
       "                                                                    Genres  \\\n",
       "3971   Action, Military, Adventure, Comedy, Drama, Magic, Fantasy, Shounen   \n",
       "15926      Action, Military, Mystery, Super Power, Drama, Fantasy, Shounen   \n",
       "\n",
       "      Episodes Type    Premiered  Members  \n",
       "3971        64   TV  Spring 2009  2248456  \n",
       "15926       16   TV  Winter 2021   733260  "
      ]
     },
     "execution_count": 65,
     "metadata": {},
     "output_type": "execute_result"
    }
   ],
   "source": [
    "df.head(2)"
   ]
  },
  {
   "cell_type": "code",
   "execution_count": 66,
   "id": "65303e5d",
   "metadata": {},
   "outputs": [
    {
     "data": {
      "text/html": [
       "<div>\n",
       "<style scoped>\n",
       "    .dataframe tbody tr th:only-of-type {\n",
       "        vertical-align: middle;\n",
       "    }\n",
       "\n",
       "    .dataframe tbody tr th {\n",
       "        vertical-align: top;\n",
       "    }\n",
       "\n",
       "    .dataframe thead th {\n",
       "        text-align: right;\n",
       "    }\n",
       "</style>\n",
       "<table border=\"1\" class=\"dataframe\">\n",
       "  <thead>\n",
       "    <tr style=\"text-align: right;\">\n",
       "      <th></th>\n",
       "      <th>MAL_ID</th>\n",
       "      <th>Name</th>\n",
       "      <th>Genres</th>\n",
       "      <th>sypnopsis</th>\n",
       "    </tr>\n",
       "  </thead>\n",
       "  <tbody>\n",
       "    <tr>\n",
       "      <th>0</th>\n",
       "      <td>1</td>\n",
       "      <td>Cowboy Bebop</td>\n",
       "      <td>Action, Adventure, Comedy, Drama, Sci-Fi, Space</td>\n",
       "      <td>In the year 2071, humanity has colonized several of the planets and moons of the solar system leaving the now uninhabitable surface of planet Earth behind. The Inter Solar System Police attempts to keep peace in the galaxy, aided in part by outlaw bounty hunters, referred to as \"Cowboys.\" The ragtag team aboard the spaceship Bebop are two such individuals. Mellow and carefree Spike Spiegel is balanced by his boisterous, pragmatic partner Jet Black as the pair makes a living chasing bounties and collecting rewards. Thrown off course by the addition of new members that they meet in their travels—Ein, a genetically engineered, highly intelligent Welsh Corgi; femme fatale Faye Valentine, an enigmatic trickster with memory loss; and the strange computer whiz kid Edward Wong—the crew embarks on thrilling adventures that unravel each member's dark and mysterious past little by little. Well-balanced with high density action and light-hearted comedy, Cowboy Bebop is a space Western classic and an homage to the smooth and improvised music it is named after.</td>\n",
       "    </tr>\n",
       "    <tr>\n",
       "      <th>1</th>\n",
       "      <td>5</td>\n",
       "      <td>Cowboy Bebop: Tengoku no Tobira</td>\n",
       "      <td>Action, Drama, Mystery, Sci-Fi, Space</td>\n",
       "      <td>other day, another bounty—such is the life of the often unlucky crew of the Bebop. However, this routine is interrupted when Faye, who is chasing a fairly worthless target on Mars, witnesses an oil tanker suddenly explode, causing mass hysteria. As casualties mount due to a strange disease spreading through the smoke from the blast, a whopping three hundred million woolong price is placed on the head of the supposed perpetrator. With lives at stake and a solution to their money problems in sight, the Bebop crew springs into action. Spike, Jet, Faye, and Edward, followed closely by Ein, split up to pursue different leads across Alba City. Through their individual investigations, they discover a cover-up scheme involving a pharmaceutical company, revealing a plot that reaches much further than the ragtag team of bounty hunters could have realized.</td>\n",
       "    </tr>\n",
       "  </tbody>\n",
       "</table>\n",
       "</div>"
      ],
      "text/plain": [
       "   MAL_ID                             Name  \\\n",
       "0       1                     Cowboy Bebop   \n",
       "1       5  Cowboy Bebop: Tengoku no Tobira   \n",
       "\n",
       "                                            Genres  \\\n",
       "0  Action, Adventure, Comedy, Drama, Sci-Fi, Space   \n",
       "1            Action, Drama, Mystery, Sci-Fi, Space   \n",
       "\n",
       "                                                                                                                                                                                                                                                                                                                                                                                                                                                                                                                                                                                                                                                                                                                                                                                                                                                                                                                                                                                                                                                                                                 sypnopsis  \n",
       "0  In the year 2071, humanity has colonized several of the planets and moons of the solar system leaving the now uninhabitable surface of planet Earth behind. The Inter Solar System Police attempts to keep peace in the galaxy, aided in part by outlaw bounty hunters, referred to as \"Cowboys.\" The ragtag team aboard the spaceship Bebop are two such individuals. Mellow and carefree Spike Spiegel is balanced by his boisterous, pragmatic partner Jet Black as the pair makes a living chasing bounties and collecting rewards. Thrown off course by the addition of new members that they meet in their travels—Ein, a genetically engineered, highly intelligent Welsh Corgi; femme fatale Faye Valentine, an enigmatic trickster with memory loss; and the strange computer whiz kid Edward Wong—the crew embarks on thrilling adventures that unravel each member's dark and mysterious past little by little. Well-balanced with high density action and light-hearted comedy, Cowboy Bebop is a space Western classic and an homage to the smooth and improvised music it is named after.  \n",
       "1                                                                                                                                                                                                                other day, another bounty—such is the life of the often unlucky crew of the Bebop. However, this routine is interrupted when Faye, who is chasing a fairly worthless target on Mars, witnesses an oil tanker suddenly explode, causing mass hysteria. As casualties mount due to a strange disease spreading through the smoke from the blast, a whopping three hundred million woolong price is placed on the head of the supposed perpetrator. With lives at stake and a solution to their money problems in sight, the Bebop crew springs into action. Spike, Jet, Faye, and Edward, followed closely by Ein, split up to pursue different leads across Alba City. Through their individual investigations, they discover a cover-up scheme involving a pharmaceutical company, revealing a plot that reaches much further than the ragtag team of bounty hunters could have realized.  "
      ]
     },
     "execution_count": 66,
     "metadata": {},
     "output_type": "execute_result"
    }
   ],
   "source": [
    "synopsis_df.head(2)"
   ]
  },
  {
   "cell_type": "code",
   "execution_count": 84,
   "id": "a3ea963b",
   "metadata": {},
   "outputs": [],
   "source": [
    "def find_similar_animes(name, anime_weights,anime2anime_encoded, \n",
    "                        anime2anime_decoded, df, synopsis_df, n=10, \n",
    "                        return_dist=False, neg=False):\n",
    "    \n",
    "    try:\n",
    "        index = get_anime_frame(name,df).anime_id.values[0]\n",
    "        encoded_index = anime2anime_encoded.get(index)\n",
    "        \n",
    "\n",
    "        weights = anime_weights\n",
    "\n",
    "        dists = np.dot(weights, weights[encoded_index])\n",
    "        sorted_dists = np.argsort(dists)\n",
    "\n",
    "        n=n+1\n",
    "\n",
    "        if neg:\n",
    "            closest = sorted_dists[:n]\n",
    "        else:\n",
    "            closest = sorted_dists[-n:]\n",
    "\n",
    "        print(f\"Anime closest to {name}\")\n",
    "\n",
    "        if return_dist:\n",
    "            return dists, closest\n",
    "        \n",
    "        SimilarityArr = []\n",
    "\n",
    "        for close in closest:\n",
    "            decoded_id = anime2anime_decoded.get(close)\n",
    "\n",
    "            # synopsis = get_sypnopsis(decoded_id,synopsis_df)\n",
    "\n",
    "            anime_frame = get_anime_frame(decoded_id,df)\n",
    "\n",
    "            anime_name = anime_frame.eng_version.values[0]\n",
    "            genre = anime_frame.Genres.values[0]\n",
    "            similarity = dists[close]\n",
    "\n",
    "            SimilarityArr.append({\n",
    "                \"anime_id\" : decoded_id,\n",
    "                \"name\" : anime_name,\n",
    "                \"similarity\" : similarity,\n",
    "                \"genre\" : genre,\n",
    "                # \"synopsis\" : synopsis\n",
    "             })\n",
    "            \n",
    "        Frame = pd.DataFrame(SimilarityArr).sort_values(by=\"similarity\", ascending=False)\n",
    "\n",
    "        return Frame[Frame.anime_id != index].drop(['anime_id'], axis=1)\n",
    "    except Exception as e:\n",
    "        print(\"Error Occured\", e)"
   ]
  },
  {
   "cell_type": "code",
   "execution_count": 68,
   "id": "effde950",
   "metadata": {},
   "outputs": [
    {
     "name": "stdout",
     "output_type": "stream",
     "text": [
      "Anime closest to Death Note\n"
     ]
    },
    {
     "data": {
      "text/html": [
       "<div>\n",
       "<style scoped>\n",
       "    .dataframe tbody tr th:only-of-type {\n",
       "        vertical-align: middle;\n",
       "    }\n",
       "\n",
       "    .dataframe tbody tr th {\n",
       "        vertical-align: top;\n",
       "    }\n",
       "\n",
       "    .dataframe thead th {\n",
       "        text-align: right;\n",
       "    }\n",
       "</style>\n",
       "<table border=\"1\" class=\"dataframe\">\n",
       "  <thead>\n",
       "    <tr style=\"text-align: right;\">\n",
       "      <th></th>\n",
       "      <th>name</th>\n",
       "      <th>similarity</th>\n",
       "      <th>genre</th>\n",
       "      <th>synopsis</th>\n",
       "    </tr>\n",
       "  </thead>\n",
       "  <tbody>\n",
       "    <tr>\n",
       "      <th>1</th>\n",
       "      <td>Maihime</td>\n",
       "      <td>0.351173</td>\n",
       "      <td>Historical, Drama, Romance</td>\n",
       "      <td>lonely exchange student meets and falls in passionate love with a dancer. A girl who falls into madness when she learns her lover is going home to make his life. The wanderings of youth on the stage of 19th century Berlin. The legendary novel of Meiji writer Mori Ogai, \"Maihime (dancing girl),\" adapted by Ga-nime \"School Girl\" producer Oku Shutaro who shows us his illustration talent and appoints Ms FURUYA Akisa for the booklets, slide shows, and animation of this Ga-nime. Over the background of a foreign country, we discover all the pathetic, poetic feelings of this elegant story as the wind of fresh artistic images brings it to life. (Source: Toei-Anim.co.jp)</td>\n",
       "    </tr>\n",
       "    <tr>\n",
       "      <th>0</th>\n",
       "      <td>Tomoe ga Yuku!</td>\n",
       "      <td>0.316371</td>\n",
       "      <td>Action, Drama, Romance, Thriller, Shoujo</td>\n",
       "      <td>The title character of Tomoe ga Yuku! (Tomoe Will Go!) is gutsy enough to roller skate down freeways for thrills. After losing a friend in a roller skating accident, Tomoe joins a stunt group called Green Ship. Although still mourning her friend's death, Tomoe has no reservations about embracing a relationship with the group's leader, Kazusa. Soon she discovers Green Ship is a front for an assassin training camp. She must flee her new life and love and rekindle her fiery spirit in order to fight against the organization which wants her dead. (Source: Animerica Extra December 2001)</td>\n",
       "    </tr>\n",
       "  </tbody>\n",
       "</table>\n",
       "</div>"
      ],
      "text/plain": [
       "             name  similarity                                     genre  \\\n",
       "1         Maihime    0.351173                Historical, Drama, Romance   \n",
       "0  Tomoe ga Yuku!    0.316371  Action, Drama, Romance, Thriller, Shoujo   \n",
       "\n",
       "                                                                                                                                                                                                                                                                                                                                                                                                                                                                                                                                                                                                                                                                                        synopsis  \n",
       "1  lonely exchange student meets and falls in passionate love with a dancer. A girl who falls into madness when she learns her lover is going home to make his life. The wanderings of youth on the stage of 19th century Berlin. The legendary novel of Meiji writer Mori Ogai, \"Maihime (dancing girl),\" adapted by Ga-nime \"School Girl\" producer Oku Shutaro who shows us his illustration talent and appoints Ms FURUYA Akisa for the booklets, slide shows, and animation of this Ga-nime. Over the background of a foreign country, we discover all the pathetic, poetic feelings of this elegant story as the wind of fresh artistic images brings it to life. (Source: Toei-Anim.co.jp)  \n",
       "0                                                                                    The title character of Tomoe ga Yuku! (Tomoe Will Go!) is gutsy enough to roller skate down freeways for thrills. After losing a friend in a roller skating accident, Tomoe joins a stunt group called Green Ship. Although still mourning her friend's death, Tomoe has no reservations about embracing a relationship with the group's leader, Kazusa. Soon she discovers Green Ship is a front for an assassin training camp. She must flee her new life and love and rekindle her fiery spirit in order to fight against the organization which wants her dead. (Source: Animerica Extra December 2001)  "
      ]
     },
     "execution_count": 68,
     "metadata": {},
     "output_type": "execute_result"
    }
   ],
   "source": [
    "find_similar_animes(\n",
    "    \"Death Note\",\n",
    "    anime_weights,\n",
    "    anime2anime_encoded,\n",
    "    anime2anime_decoded,\n",
    "    df,\n",
    "    synopsis_df,\n",
    "    n=2\n",
    "    )"
   ]
  },
  {
   "cell_type": "code",
   "execution_count": 69,
   "id": "5cde870d",
   "metadata": {},
   "outputs": [],
   "source": [
    "def find_similar_users(item_input, user_weights, user2user_encoded, user2user_decoded, n=10, return_dist=False,neg=False):\n",
    "    try:\n",
    "        index=item_input\n",
    "        encoded_index = user2user_encoded.get(index)\n",
    "\n",
    "        weights = user_weights\n",
    "\n",
    "        dists = np.dot(weights, weights[encoded_index])\n",
    "        sorted_dists = np.argsort(dists)\n",
    "\n",
    "        n=n+1\n",
    "\n",
    "        if neg:\n",
    "            closest = sorted_dists[:n]\n",
    "        else:\n",
    "            closest = sorted_dists[-n:]\n",
    "\n",
    "        if return_dist:\n",
    "            return dists, closest\n",
    "        \n",
    "        SimilarityArr = []\n",
    "\n",
    "        for close in closest:\n",
    "            similarity  = dists[close]\n",
    "\n",
    "            if isinstance(item_input, int):\n",
    "                decoded_id = user2user_decoded.get(close)\n",
    "                SimilarityArr.append({\n",
    "                    \"similar_users\" : decoded_id,\n",
    "                    \"similarity\" : similarity\n",
    "                    })\n",
    "        \n",
    "        similar_users = pd.DataFrame(SimilarityArr).sort_values(by=\"similarity\", ascending=False)\n",
    "        similar_users = similar_users[similar_users.similar_users != item_input]\n",
    "        return similar_users\n",
    "    except Exception as e:\n",
    "        print(\"Error Occured\", e)"
   ]
  },
  {
   "cell_type": "code",
   "execution_count": 70,
   "id": "88e07d28",
   "metadata": {},
   "outputs": [
    {
     "data": {
      "text/html": [
       "<div>\n",
       "<style scoped>\n",
       "    .dataframe tbody tr th:only-of-type {\n",
       "        vertical-align: middle;\n",
       "    }\n",
       "\n",
       "    .dataframe tbody tr th {\n",
       "        vertical-align: top;\n",
       "    }\n",
       "\n",
       "    .dataframe thead th {\n",
       "        text-align: right;\n",
       "    }\n",
       "</style>\n",
       "<table border=\"1\" class=\"dataframe\">\n",
       "  <thead>\n",
       "    <tr style=\"text-align: right;\">\n",
       "      <th></th>\n",
       "      <th>similar_users</th>\n",
       "      <th>similarity</th>\n",
       "    </tr>\n",
       "  </thead>\n",
       "  <tbody>\n",
       "    <tr>\n",
       "      <th>9</th>\n",
       "      <td>14957</td>\n",
       "      <td>0.338787</td>\n",
       "    </tr>\n",
       "    <tr>\n",
       "      <th>8</th>\n",
       "      <td>8901</td>\n",
       "      <td>0.309729</td>\n",
       "    </tr>\n",
       "    <tr>\n",
       "      <th>7</th>\n",
       "      <td>5211</td>\n",
       "      <td>0.296490</td>\n",
       "    </tr>\n",
       "    <tr>\n",
       "      <th>6</th>\n",
       "      <td>4467</td>\n",
       "      <td>0.294481</td>\n",
       "    </tr>\n",
       "    <tr>\n",
       "      <th>5</th>\n",
       "      <td>15558</td>\n",
       "      <td>0.288651</td>\n",
       "    </tr>\n",
       "    <tr>\n",
       "      <th>4</th>\n",
       "      <td>7854</td>\n",
       "      <td>0.285352</td>\n",
       "    </tr>\n",
       "    <tr>\n",
       "      <th>3</th>\n",
       "      <td>8810</td>\n",
       "      <td>0.279726</td>\n",
       "    </tr>\n",
       "    <tr>\n",
       "      <th>2</th>\n",
       "      <td>5781</td>\n",
       "      <td>0.268531</td>\n",
       "    </tr>\n",
       "    <tr>\n",
       "      <th>1</th>\n",
       "      <td>9475</td>\n",
       "      <td>0.266854</td>\n",
       "    </tr>\n",
       "    <tr>\n",
       "      <th>0</th>\n",
       "      <td>7032</td>\n",
       "      <td>0.259196</td>\n",
       "    </tr>\n",
       "  </tbody>\n",
       "</table>\n",
       "</div>"
      ],
      "text/plain": [
       "   similar_users  similarity\n",
       "9          14957    0.338787\n",
       "8           8901    0.309729\n",
       "7           5211    0.296490\n",
       "6           4467    0.294481\n",
       "5          15558    0.288651\n",
       "4           7854    0.285352\n",
       "3           8810    0.279726\n",
       "2           5781    0.268531\n",
       "1           9475    0.266854\n",
       "0           7032    0.259196"
      ]
     },
     "execution_count": 70,
     "metadata": {},
     "output_type": "execute_result"
    }
   ],
   "source": [
    "find_similar_users(int(11880),user_weights,user2user_encoded,user2user_decoded)"
   ]
  },
  {
   "cell_type": "code",
   "execution_count": 71,
   "id": "981c266b",
   "metadata": {},
   "outputs": [],
   "source": [
    "def showWordCould(all_genres):\n",
    "    genres_cloud = WordCloud(width=700, height=400, background_color='white', colormap='gnuplot').generate_from_frequencies(all_genres)\n",
    "    plt.figure(figsize=(10,8))\n",
    "    plt.imshow(genres_cloud,interpolation=\"bilinear\")\n",
    "    plt.axis(\"off\")\n",
    "    plt.show()"
   ]
  },
  {
   "cell_type": "code",
   "execution_count": 72,
   "id": "3816a424",
   "metadata": {},
   "outputs": [],
   "source": [
    "from collections import defaultdict"
   ]
  },
  {
   "cell_type": "code",
   "execution_count": 73,
   "id": "4a4ee632",
   "metadata": {},
   "outputs": [],
   "source": [
    "def getFavGenre(frame, plot=False):\n",
    "    frame.dropna(inplace=False)\n",
    "    all_genres = defaultdict(int)\n",
    "\n",
    "    genres_list = []\n",
    "    for genres in frame[\"Genres\"]:\n",
    "        if isinstance(genres,str):\n",
    "            for genre in genres.split(','):\n",
    "                genres_list.append(genre)\n",
    "                all_genres[genre.strip()] += 1\n",
    "\n",
    "    if plot:\n",
    "        showWordCould(all_genres)\n",
    "\n",
    "    return genres_list"
   ]
  },
  {
   "cell_type": "code",
   "execution_count": 74,
   "id": "fb331176",
   "metadata": {},
   "outputs": [],
   "source": [
    "def get_user_preferences(user_id, rating_df, df, plot=False):\n",
    "    animes_watched_by_user = rating_df[rating_df.user_id == user_id]\n",
    "\n",
    "    user_rating_percentile = np.percentile(animes_watched_by_user.rating, 75)\n",
    "\n",
    "    animes_watched_by_user = animes_watched_by_user[animes_watched_by_user.rating >= user_rating_percentile]\n",
    "\n",
    "    top_animes_user = (\n",
    "        animes_watched_by_user.sort_values(by=\"rating\", ascending=False).anime_id.values\n",
    "    )\n",
    "\n",
    "    anime_df_rows = df[df[\"anime_id\"].isin(top_animes_user)]\n",
    "    anime_df_rows = anime_df_rows[[\"eng_version\", \"Genres\"]]\n",
    "\n",
    "    if plot:\n",
    "        getFavGenre(anime_df_rows,plot)\n",
    "\n",
    "    return anime_df_rows"
   ]
  },
  {
   "cell_type": "code",
   "execution_count": 75,
   "id": "7463684e",
   "metadata": {},
   "outputs": [
    {
     "data": {
      "image/png": "[encoded data removed]",
      "text/plain": [
       "<Figure size 1000x800 with 1 Axes>"
      ]
     },
     "metadata": {},
     "output_type": "display_data"
    },
    {
     "data": {
      "text/html": [
       "<div>\n",
       "<style scoped>\n",
       "    .dataframe tbody tr th:only-of-type {\n",
       "        vertical-align: middle;\n",
       "    }\n",
       "\n",
       "    .dataframe tbody tr th {\n",
       "        vertical-align: top;\n",
       "    }\n",
       "\n",
       "    .dataframe thead th {\n",
       "        text-align: right;\n",
       "    }\n",
       "</style>\n",
       "<table border=\"1\" class=\"dataframe\">\n",
       "  <thead>\n",
       "    <tr style=\"text-align: right;\">\n",
       "      <th></th>\n",
       "      <th>eng_version</th>\n",
       "      <th>Genres</th>\n",
       "    </tr>\n",
       "  </thead>\n",
       "  <tbody>\n",
       "    <tr>\n",
       "      <th>3971</th>\n",
       "      <td>Fullmetal Alchemist:Brotherhood</td>\n",
       "      <td>Action, Military, Adventure, Comedy, Drama, Magic, Fantasy, Shounen</td>\n",
       "    </tr>\n",
       "    <tr>\n",
       "      <th>9913</th>\n",
       "      <td>Gintama Season 4</td>\n",
       "      <td>Action, Comedy, Historical, Parody, Samurai, Sci-Fi, Shounen</td>\n",
       "    </tr>\n",
       "    <tr>\n",
       "      <th>6474</th>\n",
       "      <td>Hunter x Hunter</td>\n",
       "      <td>Action, Adventure, Fantasy, Shounen, Super Power</td>\n",
       "    </tr>\n",
       "    <tr>\n",
       "      <th>6006</th>\n",
       "      <td>Gintama Season 2</td>\n",
       "      <td>Action, Sci-Fi, Comedy, Historical, Parody, Samurai, Shounen</td>\n",
       "    </tr>\n",
       "    <tr>\n",
       "      <th>741</th>\n",
       "      <td>Legend of the Galactic Heroes</td>\n",
       "      <td>Military, Sci-Fi, Space, Drama</td>\n",
       "    </tr>\n",
       "    <tr>\n",
       "      <th>...</th>\n",
       "      <td>...</td>\n",
       "      <td>...</td>\n",
       "    </tr>\n",
       "    <tr>\n",
       "      <th>2575</th>\n",
       "      <td>Shootfighter Tekken</td>\n",
       "      <td>Action, Martial Arts, Shounen</td>\n",
       "    </tr>\n",
       "    <tr>\n",
       "      <th>8064</th>\n",
       "      <td>Samurai Flamenco</td>\n",
       "      <td>Action, Comedy, Parody, Super Power</td>\n",
       "    </tr>\n",
       "    <tr>\n",
       "      <th>510</th>\n",
       "      <td>Venus Wars</td>\n",
       "      <td>Action, Sci-Fi, Adventure, Space</td>\n",
       "    </tr>\n",
       "    <tr>\n",
       "      <th>6864</th>\n",
       "      <td>Saint Seiya Omega</td>\n",
       "      <td>Action, Adventure, Fantasy, Shounen</td>\n",
       "    </tr>\n",
       "    <tr>\n",
       "      <th>9796</th>\n",
       "      <td>Garo:Crimson Moon</td>\n",
       "      <td>Action, Demons, Fantasy, Magic, Supernatural</td>\n",
       "    </tr>\n",
       "  </tbody>\n",
       "</table>\n",
       "<p>190 rows × 2 columns</p>\n",
       "</div>"
      ],
      "text/plain": [
       "                          eng_version  \\\n",
       "3971  Fullmetal Alchemist:Brotherhood   \n",
       "9913                 Gintama Season 4   \n",
       "6474                  Hunter x Hunter   \n",
       "6006                 Gintama Season 2   \n",
       "741     Legend of the Galactic Heroes   \n",
       "...                               ...   \n",
       "2575              Shootfighter Tekken   \n",
       "8064                 Samurai Flamenco   \n",
       "510                        Venus Wars   \n",
       "6864                Saint Seiya Omega   \n",
       "9796                Garo:Crimson Moon   \n",
       "\n",
       "                                                                   Genres  \n",
       "3971  Action, Military, Adventure, Comedy, Drama, Magic, Fantasy, Shounen  \n",
       "9913         Action, Comedy, Historical, Parody, Samurai, Sci-Fi, Shounen  \n",
       "6474                     Action, Adventure, Fantasy, Shounen, Super Power  \n",
       "6006         Action, Sci-Fi, Comedy, Historical, Parody, Samurai, Shounen  \n",
       "741                                        Military, Sci-Fi, Space, Drama  \n",
       "...                                                                   ...  \n",
       "2575                                        Action, Martial Arts, Shounen  \n",
       "8064                                  Action, Comedy, Parody, Super Power  \n",
       "510                                      Action, Sci-Fi, Adventure, Space  \n",
       "6864                                  Action, Adventure, Fantasy, Shounen  \n",
       "9796                         Action, Demons, Fantasy, Magic, Supernatural  \n",
       "\n",
       "[190 rows x 2 columns]"
      ]
     },
     "execution_count": 75,
     "metadata": {},
     "output_type": "execute_result"
    }
   ],
   "source": [
    "get_user_preferences(11880,rating_df, df, plot=True)"
   ]
  },
  {
   "cell_type": "markdown",
   "id": "1713a571",
   "metadata": {},
   "source": [
    "# User-Based Recommendation"
   ]
  },
  {
   "cell_type": "code",
   "execution_count": 76,
   "id": "50326f6e",
   "metadata": {},
   "outputs": [],
   "source": [
    "def get_user_recommendations(similar_users, user_pref, df, synopsis_df, rating_df, n=10):\n",
    "    recommended_animes = []\n",
    "    anime_list = []\n",
    "\n",
    "    for user_id in similar_users.similar_users.values:\n",
    "        pref_list = get_user_preferences(int(user_id), rating_df, df)\n",
    "\n",
    "        pref_list = pref_list[~pref_list.eng_version.isin(user_pref.eng_version.values)]\n",
    "\n",
    "        if not pref_list.empty:\n",
    "            anime_list.append(pref_list.eng_version.values)\n",
    "\n",
    "    if anime_list:\n",
    "            anime_list = pd.DataFrame(anime_list)\n",
    "\n",
    "            sorted_list = pd.DataFrame(pd.Series(anime_list.values.ravel()).value_counts()).head(n)\n",
    "\n",
    "            for i, anime_name in enumerate(sorted_list.index):\n",
    "                n_user_pref = sorted_list[sorted_list.index == anime_name].values[0][0]\n",
    "\n",
    "                if isinstance(anime_name, str):\n",
    "                    frame = get_anime_frame(anime_name, df)\n",
    "                    anime_id = frame.anime_id.values[0]\n",
    "                    genre = frame.Genres.values[0]\n",
    "                    synopsis = get_sypnopsis(int(anime_id), synopsis_df)\n",
    "\n",
    "                    recommended_animes.append({\n",
    "                        \"n\" : n_user_pref,\n",
    "                        \"anime_name\" : anime_name,\n",
    "                        \"Genres\" : genre,\n",
    "                        \"Synopsis\" : synopsis\n",
    "                    })\n",
    "    return pd.DataFrame(recommended_animes).head(n)"
   ]
  },
  {
   "cell_type": "code",
   "execution_count": 77,
   "id": "02c567a1",
   "metadata": {},
   "outputs": [],
   "source": [
    "similar_users = find_similar_users(int(11880),user_weights,user2user_encoded,user2user_decoded)"
   ]
  },
  {
   "cell_type": "code",
   "execution_count": 78,
   "id": "b3607afb",
   "metadata": {},
   "outputs": [],
   "source": [
    "user_pref = get_user_preferences(11880,rating_df, df, plot=False)"
   ]
  },
  {
   "cell_type": "code",
   "execution_count": 81,
   "id": "f25fad46",
   "metadata": {},
   "outputs": [
    {
     "data": {
      "text/html": [
       "<div>\n",
       "<style scoped>\n",
       "    .dataframe tbody tr th:only-of-type {\n",
       "        vertical-align: middle;\n",
       "    }\n",
       "\n",
       "    .dataframe tbody tr th {\n",
       "        vertical-align: top;\n",
       "    }\n",
       "\n",
       "    .dataframe thead th {\n",
       "        text-align: right;\n",
       "    }\n",
       "</style>\n",
       "<table border=\"1\" class=\"dataframe\">\n",
       "  <thead>\n",
       "    <tr style=\"text-align: right;\">\n",
       "      <th></th>\n",
       "      <th>n</th>\n",
       "      <th>anime_name</th>\n",
       "      <th>Genres</th>\n",
       "      <th>Synopsis</th>\n",
       "    </tr>\n",
       "  </thead>\n",
       "  <tbody>\n",
       "    <tr>\n",
       "      <th>0</th>\n",
       "      <td>8</td>\n",
       "      <td>Death Note</td>\n",
       "      <td>Mystery, Police, Psychological, Supernatural, Thriller, Shounen</td>\n",
       "      <td>shinigami, as a god of death, can kill any person—provided they see their victim's face and write their victim's name in a notebook called a Death Note. One day, Ryuk, bored by the shinigami lifestyle and interested in seeing how a human would use a Death Note, drops one into the human realm. High school student and prodigy Light Yagami stumbles upon the Death Note and—since he deplores the state of the world—tests the deadly notebook by writing a criminal's name in it. When the criminal dies immediately following his experiment with the Death Note, Light is greatly surprised and quickly recognizes how devastating the power that has fallen into his hands could be. With this divine capability, Light decides to extinguish all criminals in order to build a new world where crime does not exist and people worship him as a god. Police, however, quickly discover that a serial killer is targeting criminals and, consequently, try to apprehend the culprit. To do this, the Japanese investigators count on the assistance of the best detective in the world: a young and eccentric man known only by the name of L.</td>\n",
       "    </tr>\n",
       "  </tbody>\n",
       "</table>\n",
       "</div>"
      ],
      "text/plain": [
       "   n  anime_name  \\\n",
       "0  8  Death Note   \n",
       "\n",
       "                                                            Genres  \\\n",
       "0  Mystery, Police, Psychological, Supernatural, Thriller, Shounen   \n",
       "\n",
       "                                                                                                                                                                                                                                                                                                                                                                                                                                                                                                                                                                                                                                                                                                                                                                                                                                                                                                                                                                                                                                                                                                                                                     Synopsis  \n",
       "0  shinigami, as a god of death, can kill any person—provided they see their victim's face and write their victim's name in a notebook called a Death Note. One day, Ryuk, bored by the shinigami lifestyle and interested in seeing how a human would use a Death Note, drops one into the human realm. High school student and prodigy Light Yagami stumbles upon the Death Note and—since he deplores the state of the world—tests the deadly notebook by writing a criminal's name in it. When the criminal dies immediately following his experiment with the Death Note, Light is greatly surprised and quickly recognizes how devastating the power that has fallen into his hands could be. With this divine capability, Light decides to extinguish all criminals in order to build a new world where crime does not exist and people worship him as a god. Police, however, quickly discover that a serial killer is targeting criminals and, consequently, try to apprehend the culprit. To do this, the Japanese investigators count on the assistance of the best detective in the world: a young and eccentric man known only by the name of L.  "
      ]
     },
     "execution_count": 81,
     "metadata": {},
     "output_type": "execute_result"
    }
   ],
   "source": [
    "get_user_recommendations(similar_users, user_pref,df, synopsis_df, rating_df,n=1)"
   ]
  },
  {
   "cell_type": "markdown",
   "id": "0d0ff075",
   "metadata": {},
   "source": [
    "# Hybrid Recommender System"
   ]
  },
  {
   "cell_type": "code",
   "execution_count": 87,
   "id": "3ab6413d",
   "metadata": {},
   "outputs": [],
   "source": [
    "def hybrid_recommendation(user_id, user_weight=0.5, content_weight=0.5):\n",
    "    ## User Recommendation\n",
    "\n",
    "    similar_users = find_similar_users(user_id,user_weights,user2user_encoded,user2user_decoded)\n",
    "    user_pref = get_user_preferences(user_id,rating_df, df, plot=False)\n",
    "    user_recommended_animes = get_user_recommendations(similar_users, user_pref,df, synopsis_df, rating_df)\n",
    "\n",
    "    user_recommended_animes_list = user_recommended_animes[\"anime_name\"].tolist()\n",
    "    print(user_recommended_animes_list)\n",
    "\n",
    "    ## Content Recommendation\n",
    "    content_recommended_animes = []\n",
    "\n",
    "    for anime in user_recommended_animes_list:\n",
    "        similar_animes = find_similar_animes(anime, anime_weights, anime2anime_encoded, anime2anime_decoded, df, synopsis_df)\n",
    "\n",
    "        if similar_animes is not None and not similar_animes.empty:\n",
    "            content_recommended_animes.extend(similar_animes[\"name\"].tolist())\n",
    "        else:\n",
    "            print(f\"No similar anime found {anime}\")\n",
    "\n",
    "    combined_score = {}\n",
    "\n",
    "    for anime in user_recommended_animes_list:\n",
    "        combined_score[anime] = combined_score.get(anime,0) + user_weight\n",
    "\n",
    "    for anime in content_recommended_animes:\n",
    "        combined_score[anime] = combined_score.get(anime,0) + content_weight\n",
    "\n",
    "    sorted_animes = sorted(combined_score.items(), key=lambda x:x[1], reverse=True)\n",
    "\n",
    "    return [anime for anime, score in sorted_animes[:10]]\n"
   ]
  },
  {
   "cell_type": "code",
   "execution_count": 88,
   "id": "90689eb6",
   "metadata": {},
   "outputs": [
    {
     "name": "stdout",
     "output_type": "stream",
     "text": [
      "['Death Note', 'Code Geass:Lelouch of the Rebellion', 'Elfen Lied', 'Hyouka', 'Steins;Gate', \"KonoSuba:God's Blessing on This Wonderful World! 2\", 'My Teen Romantic Comedy SNAFU TOO!', 'Code Geass:Lelouch of the Rebellion R2', 'Spirited Away', \"KonoSuba:God's Blessing on This Wonderful World!\"]\n",
      "Anime closest to Death Note\n",
      "Anime closest to Code Geass:Lelouch of the Rebellion\n",
      "Anime closest to Elfen Lied\n",
      "Anime closest to Hyouka\n",
      "Anime closest to Steins;Gate\n",
      "Anime closest to KonoSuba:God's Blessing on This Wonderful World! 2\n",
      "Anime closest to My Teen Romantic Comedy SNAFU TOO!\n",
      "Anime closest to Code Geass:Lelouch of the Rebellion R2\n",
      "Anime closest to Spirited Away\n",
      "Anime closest to KonoSuba:God's Blessing on This Wonderful World!\n"
     ]
    },
    {
     "data": {
      "text/plain": [
       "['Death Note',\n",
       " 'Code Geass:Lelouch of the Rebellion',\n",
       " 'Elfen Lied',\n",
       " 'Hyouka',\n",
       " 'Steins;Gate',\n",
       " \"KonoSuba:God's Blessing on This Wonderful World! 2\",\n",
       " 'My Teen Romantic Comedy SNAFU TOO!',\n",
       " 'Code Geass:Lelouch of the Rebellion R2',\n",
       " 'Spirited Away',\n",
       " \"KonoSuba:God's Blessing on This Wonderful World!\"]"
      ]
     },
     "execution_count": 88,
     "metadata": {},
     "output_type": "execute_result"
    }
   ],
   "source": [
    "hybrid_recommendation(11880)"
   ]
  },
  {
   "cell_type": "code",
   "execution_count": null,
   "id": "1a257790",
   "metadata": {},
   "outputs": [],
   "source": []
  }
 ],
 "metadata": {
  "kernelspec": {
   "display_name": "venv",
   "language": "python",
   "name": "python3"
  },
  "language_info": {
   "codemirror_mode": {
    "name": "ipython",
    "version": 3
   },
   "file_extension": ".py",
   "mimetype": "text/x-python",
   "name": "python",
   "nbconvert_exporter": "python",
   "pygments_lexer": "ipython3",
   "version": "3.13.5"
  }
 },
 "nbformat": 4,
 "nbformat_minor": 5
}
